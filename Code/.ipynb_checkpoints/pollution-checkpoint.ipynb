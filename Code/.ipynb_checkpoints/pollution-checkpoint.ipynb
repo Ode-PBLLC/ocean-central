{
 "cells": [
  {
   "cell_type": "code",
   "execution_count": null,
   "id": "58dd92c2-1bf3-46bb-b04c-296f9cab8637",
   "metadata": {},
   "outputs": [],
   "source": [
    "import os\n",
    "import xarray as xr\n",
    "\n",
    "# Directory where your files are stored\n",
    "data_dir = '../Data/ALAN'\n",
    "\n",
    "# List all files in the directory\n",
    "all_files = [f for f in os.listdir(data_dir) if f.endswith('.nc')]\n",
    "\n",
    "# Group files by month based on the filename pattern `Month-XX`\n",
    "monthly_files = {}\n",
    "for file in all_files:\n",
    "    # Extract month from the file name\n",
    "    month = file.split('_')[4].split('-')[1]  # Assuming the format `Month-XX`\n",
    "    if month not in monthly_files:\n",
    "        monthly_files[month] = []\n",
    "    monthly_files[month].append(os.path.join(data_dir, file))\n",
    "\n",
    "# Merge files by month and save as NetCDF\n",
    "for month, files in monthly_files.items():\n",
    "    datasets = [xr.open_dataset(f) for f in files]\n",
    "    combined = xr.concat(datasets, dim='time')  # Adjust 'dim' as needed based on your data structure\n",
    "    combined_file = os.path.join(data_dir, f\"combined_month_{month}.nc\")\n",
    "    combined.to_netcdf(combined_file)\n",
    "    print(f\"Saved combined file for Month-{month} as {combined_file}\")\n"
   ]
  },
  {
   "cell_type": "code",
   "execution_count": null,
   "id": "c3bdbc10-ca20-4f82-9929-3cf97af28643",
   "metadata": {},
   "outputs": [
    {
     "name": "stdout",
     "output_type": "stream",
     "text": [
      "1\n",
      "1\n",
      "1\n"
     ]
    }
   ],
   "source": [
    "import xarray as xr\n",
    "import os\n",
    "import glob\n",
    "import numpy as np\n",
    "\n",
    "data_dir = \"../Data/ALAN/\"\n",
    "file_pattern = \"In-water_clear-sky_ALAN_Zc_Month-{month:02d}_*.nc\"\n",
    "\n",
    "merged_data = {}\n",
    "\n",
    "for month in range(1, 13):\n",
    "    print(month)\n",
    "    month_files = glob.glob(os.path.join(data_dir, file_pattern.format(month=month)))\n",
    "    \n",
    "    datasets = []\n",
    "    print(month)\n",
    "    for file in month_files:\n",
    "        ds = xr.open_dataset(file)\n",
    "        \n",
    "        # Optionally drop duplicates if they exist\n",
    "        ds = ds.drop_duplicates(dim='lat').drop_duplicates(dim='lon')\n",
    "        \n",
    "        datasets.append(ds)\n",
    "    print(month)\n",
    "    # Combine datasets for the month across lat/lon dimensions\n",
    "    merged_data[month] = xr.combine_by_coords(datasets, combine_attrs=\"drop_conflicts\")\n",
    "\n",
    "# Optionally save the merged datasets\n",
    "for month in merged_data:\n",
    "    output_path = os.path.join(data_dir, f\"ALAN_Zc_Month-{month:02d}_merged.nc\")\n",
    "    merged_data[month].to_netcdf(output_path)\n"
   ]
  },
  {
   "cell_type": "code",
   "execution_count": null,
   "id": "ee7384a8-284f-4e51-b768-c406a553dc60",
   "metadata": {},
   "outputs": [],
   "source": []
  }
 ],
 "metadata": {
  "kernelspec": {
   "display_name": "claymodel",
   "language": "python",
   "name": "claymodel"
  },
  "language_info": {
   "codemirror_mode": {
    "name": "ipython",
    "version": 3
   },
   "file_extension": ".py",
   "mimetype": "text/x-python",
   "name": "python",
   "nbconvert_exporter": "python",
   "pygments_lexer": "ipython3",
   "version": "3.11.9"
  }
 },
 "nbformat": 4,
 "nbformat_minor": 5
}
