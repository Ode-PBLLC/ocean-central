{
 "cells": [
  {
   "cell_type": "code",
   "execution_count": 5,
   "id": "82166072-e74c-4d28-bbe5-bbcceade0e3b",
   "metadata": {},
   "outputs": [],
   "source": [
    "import requests\n",
    "import matplotlib.pyplot as plt\n",
    "import pandas as pd\n",
    "import os.path\n",
    "import pycountry\n",
    "import time\n",
    "\n",
    "from tqdm import tqdm\n",
    "from sklearn.linear_model import LinearRegression\n",
    "\n",
    "# Define the base URL and your API token\n",
    "base_url = \"https://api.iucnredlist.org/api/v4/habitats/\"\n",
    "token = \"TVXuHMNVpyvNRFTdwx8SED3kt5mPNJ3W1QJL\"\n",
    "\n",
    "# Set up the headers with the token\n",
    "headers = {\n",
    "    \"accept\": \"application/json\",\n",
    "    \"Authorization\": token\n",
    "}\n",
    "\n",
    "# Function to convert country code to country name\n",
    "def get_country_name(code):\n",
    "    try:\n",
    "        return pycountry.countries.get(alpha_2=code).name\n",
    "    except:\n",
    "        return 'Unknown'\n",
    "\n",
    "# Function to get assessments for a given habitat\n",
    "def get_assessments(habitat_id):\n",
    "    page = 1\n",
    "    per_page = 100\n",
    "    assessments = []\n",
    "    \n",
    "    while True:\n",
    "        print(f\"Habitat: {habitat_id}, Page: {page}\")\n",
    "        # Construct the URL with pagination parameters\n",
    "        url = f\"{base_url}{habitat_id}?page={page}&per_page={per_page}\"\n",
    "        \n",
    "        # Make the GET request\n",
    "        response = requests.get(url, headers=headers)\n",
    "        \n",
    "        # Check if the request was successful\n",
    "        if response.status_code == 200:\n",
    "            data = response.json()\n",
    "            assessments.extend(data.get('assessments', []))\n",
    "            \n",
    "            # Check if we have reached the last page\n",
    "            total_pages = int(response.headers.get('total-pages', 1))\n",
    "            if page >= total_pages:\n",
    "                break\n",
    "            \n",
    "            # Move to the next page\n",
    "            page += 1\n",
    "        else:\n",
    "            print(f\"Failed to retrieve data for habitat {habitat_id}: {response.status_code} - {response.text}\")\n",
    "            break\n",
    "            \n",
    "    return assessments"
   ]
  },
  {
   "cell_type": "code",
   "execution_count": 6,
   "id": "e0b7ea24-bf8f-45b2-8f57-3cdb59bf9223",
   "metadata": {
    "scrolled": true
   },
   "outputs": [],
   "source": [
    "# Get marine assessments\n",
    "\n",
    "if not os.path.exists(\"../Data/marine_habitats.csv\"):\n",
    "    # Initialize variables for storing all assessments\n",
    "    all_assessments = []\n",
    "    \n",
    "    # Iterate through major categories and their subcategories\n",
    "    major_habitats = [9, 10, 11, 12, 13]\n",
    "    for habitat_id in major_habitats:\n",
    "        # Get assessments for the main category\n",
    "        all_assessments.extend(get_assessments(habitat_id))\n",
    "        \n",
    "        # Check for subcategories (assuming subcategories range from 1 to 15)\n",
    "        for sub_id in range(1, 16):\n",
    "            sub_habitat_id = f\"{habitat_id}_{sub_id}\"\n",
    "            all_assessments.extend(get_assessments(sub_habitat_id))\n",
    "    \n",
    "    # Extract relevant information for each assessment\n",
    "    rows = []\n",
    "    for assessment in all_assessments:\n",
    "        row = {\n",
    "            \"year_published\": assessment.get(\"year_published\"),\n",
    "            \"latest\": assessment.get(\"latest\"),\n",
    "            \"sis_taxon_id\": assessment.get(\"sis_taxon_id\"),\n",
    "            \"url\": assessment.get(\"url\"),\n",
    "            \"assessment_id\": assessment.get(\"assessment_id\"),\n",
    "            \"code\": assessment.get(\"code\"),\n",
    "            \"code_type\": assessment.get(\"code_type\"),\n",
    "            \"scope_description\": assessment.get(\"scopes\")[0].get(\"description\").get(\"en\") if assessment.get(\"scopes\") else None,\n",
    "            \"scope_code\": assessment.get(\"scopes\")[0].get(\"code\") if assessment.get(\"scopes\") else None,\n",
    "            \"habitat_id\": assessment.get(\"habitat_id\"),  # Add habitat_id to the row\n",
    "        }\n",
    "        rows.append(row)\n",
    "    \n",
    "    # Create a DataFrame\n",
    "    marine_df = pd.DataFrame(rows)\n",
    "    marine_df.to_csv(\"../Data/marine_habitats.csv\")\n",
    "    marine_df\n",
    "else:\n",
    "    marine_df = pd.read_csv(\"../Data/marine_habitats.csv\")\n",
    "    marine_df"
   ]
  },
  {
   "cell_type": "code",
   "execution_count": 7,
   "id": "1264d5ee-3422-4c5e-809f-650d3a8e460b",
   "metadata": {},
   "outputs": [
    {
     "name": "stderr",
     "output_type": "stream",
     "text": [
      "  5%|██████                                                                                                                      | 893/18106 [08:26<2:37:37,  1.82it/s]"
     ]
    },
    {
     "name": "stdout",
     "output_type": "stream",
     "text": [
      "Rate limit exceeded. Retrying in 0.5 seconds...\n"
     ]
    },
    {
     "name": "stderr",
     "output_type": "stream",
     "text": [
      "  6%|██████▉                                                                                                                    | 1013/18106 [09:23<2:26:19,  1.95it/s]"
     ]
    },
    {
     "name": "stdout",
     "output_type": "stream",
     "text": [
      "Rate limit exceeded. Retrying in 0.5 seconds...\n",
      "Rate limit exceeded. Retrying in 1.0 seconds...\n",
      "Rate limit exceeded. Retrying in 2.0 seconds...\n"
     ]
    },
    {
     "name": "stderr",
     "output_type": "stream",
     "text": [
      "  8%|██████████                                                                                                                 | 1478/18106 [13:23<1:51:50,  2.48it/s]"
     ]
    },
    {
     "name": "stdout",
     "output_type": "stream",
     "text": [
      "Rate limit exceeded. Retrying in 0.5 seconds...\n",
      "Rate limit exceeded. Retrying in 1.0 seconds...\n",
      "Rate limit exceeded. Retrying in 2.0 seconds...\n"
     ]
    },
    {
     "name": "stderr",
     "output_type": "stream",
     "text": [
      "  9%|██████████▊                                                                                                                | 1598/18106 [14:25<2:35:19,  1.77it/s]"
     ]
    },
    {
     "name": "stdout",
     "output_type": "stream",
     "text": [
      "Rate limit exceeded. Retrying in 0.5 seconds...\n",
      "Rate limit exceeded. Retrying in 1.0 seconds...\n"
     ]
    },
    {
     "name": "stderr",
     "output_type": "stream",
     "text": [
      " 12%|███████████████▏                                                                                                           | 2243/18106 [20:23<2:05:57,  2.10it/s]"
     ]
    },
    {
     "name": "stdout",
     "output_type": "stream",
     "text": [
      "Rate limit exceeded. Retrying in 0.5 seconds...\n",
      "Rate limit exceeded. Retrying in 1.0 seconds...\n",
      "Rate limit exceeded. Retrying in 2.0 seconds...\n"
     ]
    },
    {
     "name": "stderr",
     "output_type": "stream",
     "text": [
      " 13%|████████████████                                                                                                           | 2363/18106 [21:23<2:07:58,  2.05it/s]"
     ]
    },
    {
     "name": "stdout",
     "output_type": "stream",
     "text": [
      "Rate limit exceeded. Retrying in 0.5 seconds...\n",
      "Rate limit exceeded. Retrying in 1.0 seconds...\n",
      "Rate limit exceeded. Retrying in 2.0 seconds...\n"
     ]
    },
    {
     "name": "stderr",
     "output_type": "stream",
     "text": [
      " 14%|████████████████▊                                                                                                          | 2483/18106 [22:23<2:00:40,  2.16it/s]"
     ]
    },
    {
     "name": "stdout",
     "output_type": "stream",
     "text": [
      "Rate limit exceeded. Retrying in 0.5 seconds...\n",
      "Rate limit exceeded. Retrying in 1.0 seconds...\n",
      "Rate limit exceeded. Retrying in 2.0 seconds...\n"
     ]
    },
    {
     "name": "stderr",
     "output_type": "stream",
     "text": [
      " 14%|█████████████████▋                                                                                                         | 2603/18106 [23:25<2:01:02,  2.13it/s]"
     ]
    },
    {
     "name": "stdout",
     "output_type": "stream",
     "text": [
      "Rate limit exceeded. Retrying in 0.5 seconds...\n",
      "Rate limit exceeded. Retrying in 1.0 seconds...\n"
     ]
    },
    {
     "name": "stderr",
     "output_type": "stream",
     "text": [
      " 15%|██████████████████▍                                                                                                        | 2723/18106 [24:26<1:53:36,  2.26it/s]"
     ]
    },
    {
     "name": "stdout",
     "output_type": "stream",
     "text": [
      "Rate limit exceeded. Retrying in 0.5 seconds...\n"
     ]
    },
    {
     "name": "stderr",
     "output_type": "stream",
     "text": [
      " 16%|███████████████████▎                                                                                                       | 2843/18106 [25:23<1:51:50,  2.27it/s]"
     ]
    },
    {
     "name": "stdout",
     "output_type": "stream",
     "text": [
      "Rate limit exceeded. Retrying in 0.5 seconds...\n",
      "Rate limit exceeded. Retrying in 1.0 seconds...\n",
      "Rate limit exceeded. Retrying in 2.0 seconds...\n"
     ]
    },
    {
     "name": "stderr",
     "output_type": "stream",
     "text": [
      " 16%|████████████████████▏                                                                                                      | 2963/18106 [26:26<2:03:26,  2.04it/s]"
     ]
    },
    {
     "name": "stdout",
     "output_type": "stream",
     "text": [
      "Rate limit exceeded. Retrying in 0.5 seconds...\n"
     ]
    },
    {
     "name": "stderr",
     "output_type": "stream",
     "text": [
      " 19%|███████████████████████▎                                                                                                   | 3438/18106 [30:23<1:48:15,  2.26it/s]"
     ]
    },
    {
     "name": "stdout",
     "output_type": "stream",
     "text": [
      "Rate limit exceeded. Retrying in 0.5 seconds...\n",
      "Rate limit exceeded. Retrying in 1.0 seconds...\n",
      "Rate limit exceeded. Retrying in 2.0 seconds...\n"
     ]
    },
    {
     "name": "stderr",
     "output_type": "stream",
     "text": [
      " 20%|████████████████████████▏                                                                                                  | 3558/18106 [31:22<1:41:23,  2.39it/s]"
     ]
    },
    {
     "name": "stdout",
     "output_type": "stream",
     "text": [
      "Rate limit exceeded. Retrying in 0.5 seconds...\n",
      "Rate limit exceeded. Retrying in 1.0 seconds...\n",
      "Rate limit exceeded. Retrying in 2.0 seconds...\n",
      "Rate limit exceeded. Retrying in 4.0 seconds...\n"
     ]
    },
    {
     "name": "stderr",
     "output_type": "stream",
     "text": [
      " 20%|████████████████████████▉                                                                                                  | 3678/18106 [32:24<2:00:09,  2.00it/s]"
     ]
    },
    {
     "name": "stdout",
     "output_type": "stream",
     "text": [
      "Rate limit exceeded. Retrying in 0.5 seconds...\n",
      "Rate limit exceeded. Retrying in 1.0 seconds...\n",
      "Rate limit exceeded. Retrying in 2.0 seconds...\n"
     ]
    },
    {
     "name": "stderr",
     "output_type": "stream",
     "text": [
      " 21%|█████████████████████████▊                                                                                                 | 3798/18106 [33:24<1:44:55,  2.27it/s]"
     ]
    },
    {
     "name": "stdout",
     "output_type": "stream",
     "text": [
      "Rate limit exceeded. Retrying in 0.5 seconds...\n",
      "Rate limit exceeded. Retrying in 1.0 seconds...\n",
      "Rate limit exceeded. Retrying in 2.0 seconds...\n"
     ]
    },
    {
     "name": "stderr",
     "output_type": "stream",
     "text": [
      " 22%|██████████████████████████▌                                                                                                | 3918/18106 [34:21<1:48:43,  2.17it/s]"
     ]
    },
    {
     "name": "stdout",
     "output_type": "stream",
     "text": [
      "Rate limit exceeded. Retrying in 0.5 seconds...\n",
      "Rate limit exceeded. Retrying in 1.0 seconds...\n",
      "Rate limit exceeded. Retrying in 2.0 seconds...\n",
      "Rate limit exceeded. Retrying in 4.0 seconds...\n"
     ]
    },
    {
     "name": "stderr",
     "output_type": "stream",
     "text": [
      " 23%|████████████████████████████▋                                                                                              | 4225/18106 [38:24<2:01:55,  1.90it/s]"
     ]
    },
    {
     "name": "stdout",
     "output_type": "stream",
     "text": [
      "Rate limit exceeded. Retrying in 0.5 seconds...\n",
      "Rate limit exceeded. Retrying in 1.0 seconds...\n"
     ]
    },
    {
     "name": "stderr",
     "output_type": "stream",
     "text": [
      " 25%|██████████████████████████████▎                                                                                            | 4463/18106 [40:26<1:49:46,  2.07it/s]"
     ]
    },
    {
     "name": "stdout",
     "output_type": "stream",
     "text": [
      "Rate limit exceeded. Retrying in 0.5 seconds...\n"
     ]
    },
    {
     "name": "stderr",
     "output_type": "stream",
     "text": [
      " 25%|███████████████████████████████▏                                                                                           | 4583/18106 [41:25<1:51:15,  2.03it/s]"
     ]
    },
    {
     "name": "stdout",
     "output_type": "stream",
     "text": [
      "Rate limit exceeded. Retrying in 0.5 seconds...\n",
      "Rate limit exceeded. Retrying in 1.0 seconds...\n"
     ]
    },
    {
     "name": "stderr",
     "output_type": "stream",
     "text": [
      " 30%|█████████████████████████████████████                                                                                      | 5451/18106 [49:17<1:30:56,  2.32it/s]"
     ]
    },
    {
     "name": "stdout",
     "output_type": "stream",
     "text": [
      "Rate limit exceeded. Retrying in 0.5 seconds...\n",
      "Rate limit exceeded. Retrying in 1.0 seconds...\n",
      "Rate limit exceeded. Retrying in 2.0 seconds...\n",
      "Rate limit exceeded. Retrying in 4.0 seconds...\n",
      "Rate limit exceeded. Retrying in 8.0 seconds...\n"
     ]
    },
    {
     "name": "stderr",
     "output_type": "stream",
     "text": [
      " 31%|██████████████████████████████████████▋                                                                                    | 5690/18106 [51:26<1:59:34,  1.73it/s]"
     ]
    },
    {
     "name": "stdout",
     "output_type": "stream",
     "text": [
      "Rate limit exceeded. Retrying in 0.5 seconds...\n"
     ]
    },
    {
     "name": "stderr",
     "output_type": "stream",
     "text": [
      " 33%|█████████████████████████████████████████                                                                                  | 6044/18106 [54:23<1:23:13,  2.42it/s]"
     ]
    },
    {
     "name": "stdout",
     "output_type": "stream",
     "text": [
      "Rate limit exceeded. Retrying in 0.5 seconds...\n",
      "Rate limit exceeded. Retrying in 1.0 seconds...\n",
      "Rate limit exceeded. Retrying in 2.0 seconds...\n"
     ]
    },
    {
     "name": "stderr",
     "output_type": "stream",
     "text": [
      " 34%|█████████████████████████████████████████▊                                                                                 | 6164/18106 [55:22<1:19:20,  2.51it/s]"
     ]
    },
    {
     "name": "stdout",
     "output_type": "stream",
     "text": [
      "Rate limit exceeded. Retrying in 0.5 seconds...\n",
      "Rate limit exceeded. Retrying in 1.0 seconds...\n",
      "Rate limit exceeded. Retrying in 2.0 seconds...\n"
     ]
    },
    {
     "name": "stderr",
     "output_type": "stream",
     "text": [
      " 35%|██████████████████████████████████████████▋                                                                                | 6284/18106 [56:21<1:32:53,  2.12it/s]"
     ]
    },
    {
     "name": "stdout",
     "output_type": "stream",
     "text": [
      "Rate limit exceeded. Retrying in 0.5 seconds...\n",
      "Rate limit exceeded. Retrying in 1.0 seconds...\n",
      "Rate limit exceeded. Retrying in 2.0 seconds...\n",
      "Rate limit exceeded. Retrying in 4.0 seconds...\n"
     ]
    },
    {
     "name": "stderr",
     "output_type": "stream",
     "text": [
      " 35%|███████████████████████████████████████████▌                                                                               | 6404/18106 [57:25<1:27:44,  2.22it/s]"
     ]
    },
    {
     "name": "stdout",
     "output_type": "stream",
     "text": [
      "Rate limit exceeded. Retrying in 0.5 seconds...\n",
      "Rate limit exceeded. Retrying in 1.0 seconds...\n"
     ]
    },
    {
     "name": "stderr",
     "output_type": "stream",
     "text": [
      " 36%|████████████████████████████████████████████▎                                                                              | 6524/18106 [58:17<1:16:06,  2.54it/s]"
     ]
    },
    {
     "name": "stdout",
     "output_type": "stream",
     "text": [
      "Rate limit exceeded. Retrying in 0.5 seconds...\n",
      "Rate limit exceeded. Retrying in 1.0 seconds...\n",
      "Rate limit exceeded. Retrying in 2.0 seconds...\n",
      "Rate limit exceeded. Retrying in 4.0 seconds...\n",
      "Rate limit exceeded. Retrying in 8.0 seconds...\n"
     ]
    },
    {
     "name": "stderr",
     "output_type": "stream",
     "text": [
      " 37%|█████████████████████████████████████████████▏                                                                           | 6765/18106 [1:00:19<1:24:02,  2.25it/s]"
     ]
    },
    {
     "name": "stdout",
     "output_type": "stream",
     "text": [
      "Rate limit exceeded. Retrying in 0.5 seconds...\n",
      "Rate limit exceeded. Retrying in 1.0 seconds...\n",
      "Rate limit exceeded. Retrying in 2.0 seconds...\n",
      "Rate limit exceeded. Retrying in 4.0 seconds...\n"
     ]
    },
    {
     "name": "stderr",
     "output_type": "stream",
     "text": [
      " 38%|██████████████████████████████████████████████                                                                           | 6885/18106 [1:01:21<1:33:05,  2.01it/s]"
     ]
    },
    {
     "name": "stdout",
     "output_type": "stream",
     "text": [
      "Rate limit exceeded. Retrying in 0.5 seconds...\n",
      "Rate limit exceeded. Retrying in 1.0 seconds...\n",
      "Rate limit exceeded. Retrying in 2.0 seconds...\n",
      "Rate limit exceeded. Retrying in 4.0 seconds...\n"
     ]
    },
    {
     "name": "stderr",
     "output_type": "stream",
     "text": [
      " 39%|███████████████████████████████████████████████▌                                                                         | 7125/18106 [1:03:22<1:21:42,  2.24it/s]"
     ]
    },
    {
     "name": "stdout",
     "output_type": "stream",
     "text": [
      "Rate limit exceeded. Retrying in 0.5 seconds...\n",
      "Rate limit exceeded. Retrying in 1.0 seconds...\n",
      "Rate limit exceeded. Retrying in 2.0 seconds...\n",
      "Rate limit exceeded. Retrying in 4.0 seconds...\n"
     ]
    },
    {
     "name": "stderr",
     "output_type": "stream",
     "text": [
      " 41%|█████████████████████████████████████████████████▏                                                                       | 7365/18106 [1:05:21<1:16:26,  2.34it/s]"
     ]
    },
    {
     "name": "stdout",
     "output_type": "stream",
     "text": [
      "Rate limit exceeded. Retrying in 0.5 seconds...\n",
      "Rate limit exceeded. Retrying in 1.0 seconds...\n",
      "Rate limit exceeded. Retrying in 2.0 seconds...\n",
      "Rate limit exceeded. Retrying in 4.0 seconds...\n"
     ]
    },
    {
     "name": "stderr",
     "output_type": "stream",
     "text": [
      " 41%|██████████████████████████████████████████████████                                                                       | 7485/18106 [1:06:23<1:16:40,  2.31it/s]"
     ]
    },
    {
     "name": "stdout",
     "output_type": "stream",
     "text": [
      "Rate limit exceeded. Retrying in 0.5 seconds...\n",
      "Rate limit exceeded. Retrying in 1.0 seconds...\n",
      "Rate limit exceeded. Retrying in 2.0 seconds...\n"
     ]
    },
    {
     "name": "stderr",
     "output_type": "stream",
     "text": [
      " 42%|██████████████████████████████████████████████████▊                                                                      | 7605/18106 [1:07:19<1:18:06,  2.24it/s]"
     ]
    },
    {
     "name": "stdout",
     "output_type": "stream",
     "text": [
      "Rate limit exceeded. Retrying in 0.5 seconds...\n",
      "Rate limit exceeded. Retrying in 1.0 seconds...\n",
      "Rate limit exceeded. Retrying in 2.0 seconds...\n",
      "Rate limit exceeded. Retrying in 4.0 seconds...\n"
     ]
    },
    {
     "name": "stderr",
     "output_type": "stream",
     "text": [
      " 43%|████████████████████████████████████████████████████▎                                                                    | 7829/18106 [1:09:25<1:16:04,  2.25it/s]"
     ]
    },
    {
     "name": "stdout",
     "output_type": "stream",
     "text": [
      "Rate limit exceeded. Retrying in 0.5 seconds...\n",
      "Rate limit exceeded. Retrying in 1.0 seconds...\n"
     ]
    },
    {
     "name": "stderr",
     "output_type": "stream",
     "text": [
      " 45%|█████████████████████████████████████████████████████▉                                                                   | 8064/18106 [1:11:27<1:22:10,  2.04it/s]"
     ]
    },
    {
     "name": "stdout",
     "output_type": "stream",
     "text": [
      "Rate limit exceeded. Retrying in 0.5 seconds...\n"
     ]
    },
    {
     "name": "stderr",
     "output_type": "stream",
     "text": [
      " 46%|████████████████████████████████████████████████████████▏                                                                | 8414/18106 [1:14:26<1:27:41,  1.84it/s]"
     ]
    },
    {
     "name": "stdout",
     "output_type": "stream",
     "text": [
      "Rate limit exceeded. Retrying in 0.5 seconds...\n",
      "Rate limit exceeded. Retrying in 1.0 seconds...\n"
     ]
    },
    {
     "name": "stderr",
     "output_type": "stream",
     "text": [
      " 47%|█████████████████████████████████████████████████████████                                                                | 8534/18106 [1:15:23<1:14:06,  2.15it/s]"
     ]
    },
    {
     "name": "stdout",
     "output_type": "stream",
     "text": [
      "Rate limit exceeded. Retrying in 0.5 seconds...\n",
      "Rate limit exceeded. Retrying in 1.0 seconds...\n",
      "Rate limit exceeded. Retrying in 2.0 seconds...\n"
     ]
    },
    {
     "name": "stderr",
     "output_type": "stream",
     "text": [
      " 48%|█████████████████████████████████████████████████████████▊                                                               | 8654/18106 [1:16:21<1:10:22,  2.24it/s]"
     ]
    },
    {
     "name": "stdout",
     "output_type": "stream",
     "text": [
      "Rate limit exceeded. Retrying in 0.5 seconds...\n",
      "Rate limit exceeded. Retrying in 1.0 seconds...\n",
      "Rate limit exceeded. Retrying in 2.0 seconds...\n",
      "Rate limit exceeded. Retrying in 4.0 seconds...\n"
     ]
    },
    {
     "name": "stderr",
     "output_type": "stream",
     "text": [
      " 48%|██████████████████████████████████████████████████████████▋                                                              | 8774/18106 [1:17:26<1:08:53,  2.26it/s]"
     ]
    },
    {
     "name": "stdout",
     "output_type": "stream",
     "text": [
      "Rate limit exceeded. Retrying in 0.5 seconds...\n"
     ]
    },
    {
     "name": "stderr",
     "output_type": "stream",
     "text": [
      " 49%|███████████████████████████████████████████████████████████▍                                                             | 8894/18106 [1:18:23<1:11:05,  2.16it/s]"
     ]
    },
    {
     "name": "stdout",
     "output_type": "stream",
     "text": [
      "Rate limit exceeded. Retrying in 0.5 seconds...\n",
      "Rate limit exceeded. Retrying in 1.0 seconds...\n",
      "Rate limit exceeded. Retrying in 2.0 seconds...\n"
     ]
    },
    {
     "name": "stderr",
     "output_type": "stream",
     "text": [
      " 50%|████████████████████████████████████████████████████████████▏                                                            | 9014/18106 [1:19:23<1:19:50,  1.90it/s]"
     ]
    },
    {
     "name": "stdout",
     "output_type": "stream",
     "text": [
      "Rate limit exceeded. Retrying in 0.5 seconds...\n",
      "Rate limit exceeded. Retrying in 1.0 seconds...\n",
      "Rate limit exceeded. Retrying in 2.0 seconds...\n"
     ]
    },
    {
     "name": "stderr",
     "output_type": "stream",
     "text": [
      " 51%|█████████████████████████████████████████████████████████████▊                                                           | 9253/18106 [1:21:27<1:23:47,  1.76it/s]"
     ]
    },
    {
     "name": "stdout",
     "output_type": "stream",
     "text": [
      "Rate limit exceeded. Retrying in 0.5 seconds...\n"
     ]
    },
    {
     "name": "stderr",
     "output_type": "stream",
     "text": [
      " 55%|██████████████████████████████████████████████████████████████████▍                                                      | 9934/18106 [1:27:26<1:14:57,  1.82it/s]"
     ]
    },
    {
     "name": "stdout",
     "output_type": "stream",
     "text": [
      "Rate limit exceeded. Retrying in 0.5 seconds...\n"
     ]
    },
    {
     "name": "stderr",
     "output_type": "stream",
     "text": [
      " 56%|███████████████████████████████████████████████████████████████████▍                                                    | 10170/18106 [1:29:26<1:01:03,  2.17it/s]"
     ]
    },
    {
     "name": "stdout",
     "output_type": "stream",
     "text": [
      "Rate limit exceeded. Retrying in 0.5 seconds...\n"
     ]
    },
    {
     "name": "stderr",
     "output_type": "stream",
     "text": [
      " 59%|███████████████████████████████████████████████████████████████████████▌                                                  | 10621/18106 [1:33:21<57:54,  2.15it/s]"
     ]
    },
    {
     "name": "stdout",
     "output_type": "stream",
     "text": [
      "Rate limit exceeded. Retrying in 0.5 seconds...\n",
      "Rate limit exceeded. Retrying in 1.0 seconds...\n",
      "Rate limit exceeded. Retrying in 2.0 seconds...\n",
      "Rate limit exceeded. Retrying in 4.0 seconds...\n"
     ]
    },
    {
     "name": "stderr",
     "output_type": "stream",
     "text": [
      " 59%|████████████████████████████████████████████████████████████████████████▎                                                 | 10741/18106 [1:34:25<56:38,  2.17it/s]"
     ]
    },
    {
     "name": "stdout",
     "output_type": "stream",
     "text": [
      "Rate limit exceeded. Retrying in 0.5 seconds...\n",
      "Rate limit exceeded. Retrying in 1.0 seconds...\n"
     ]
    },
    {
     "name": "stderr",
     "output_type": "stream",
     "text": [
      " 62%|██████████████████████████████████████████████████████████████████████████▏                                             | 11202/18106 [1:38:25<1:03:17,  1.82it/s]"
     ]
    },
    {
     "name": "stdout",
     "output_type": "stream",
     "text": [
      "Rate limit exceeded. Retrying in 0.5 seconds...\n",
      "Rate limit exceeded. Retrying in 1.0 seconds...\n"
     ]
    },
    {
     "name": "stderr",
     "output_type": "stream",
     "text": [
      " 75%|███████████████████████████████████████████████████████████████████████████████████████████▏                              | 13541/18106 [1:59:24<33:19,  2.28it/s]"
     ]
    },
    {
     "name": "stdout",
     "output_type": "stream",
     "text": [
      "Rate limit exceeded. Retrying in 0.5 seconds...\n",
      "Rate limit exceeded. Retrying in 1.0 seconds...\n",
      "Rate limit exceeded. Retrying in 2.0 seconds...\n"
     ]
    },
    {
     "name": "stderr",
     "output_type": "stream",
     "text": [
      " 75%|████████████████████████████████████████████████████████████████████████████████████████████                              | 13661/18106 [2:00:22<33:58,  2.18it/s]"
     ]
    },
    {
     "name": "stdout",
     "output_type": "stream",
     "text": [
      "Rate limit exceeded. Retrying in 0.5 seconds...\n",
      "Rate limit exceeded. Retrying in 1.0 seconds...\n",
      "Rate limit exceeded. Retrying in 2.0 seconds...\n"
     ]
    },
    {
     "name": "stderr",
     "output_type": "stream",
     "text": [
      " 76%|████████████████████████████████████████████████████████████████████████████████████████████▊                             | 13781/18106 [2:01:20<32:57,  2.19it/s]"
     ]
    },
    {
     "name": "stdout",
     "output_type": "stream",
     "text": [
      "Rate limit exceeded. Retrying in 0.5 seconds...\n",
      "Rate limit exceeded. Retrying in 1.0 seconds...\n",
      "Rate limit exceeded. Retrying in 2.0 seconds...\n",
      "Rate limit exceeded. Retrying in 4.0 seconds...\n"
     ]
    },
    {
     "name": "stderr",
     "output_type": "stream",
     "text": [
      " 77%|█████████████████████████████████████████████████████████████████████████████████████████████▋                            | 13901/18106 [2:02:25<38:14,  1.83it/s]"
     ]
    },
    {
     "name": "stdout",
     "output_type": "stream",
     "text": [
      "Rate limit exceeded. Retrying in 0.5 seconds...\n",
      "Rate limit exceeded. Retrying in 1.0 seconds...\n"
     ]
    },
    {
     "name": "stderr",
     "output_type": "stream",
     "text": [
      " 79%|████████████████████████████████████████████████████████████████████████████████████████████████▊                         | 14373/18106 [2:06:26<31:01,  2.01it/s]"
     ]
    },
    {
     "name": "stdout",
     "output_type": "stream",
     "text": [
      "Rate limit exceeded. Retrying in 0.5 seconds...\n"
     ]
    },
    {
     "name": "stderr",
     "output_type": "stream",
     "text": [
      " 82%|███████████████████████████████████████████████████████████████████████████████████████████████████▉                      | 14831/18106 [2:10:26<23:50,  2.29it/s]"
     ]
    },
    {
     "name": "stdout",
     "output_type": "stream",
     "text": [
      "Rate limit exceeded. Retrying in 0.5 seconds...\n"
     ]
    },
    {
     "name": "stderr",
     "output_type": "stream",
     "text": [
      " 85%|███████████████████████████████████████████████████████████████████████████████████████████████████████▊                  | 15413/18106 [2:15:25<19:09,  2.34it/s]"
     ]
    },
    {
     "name": "stdout",
     "output_type": "stream",
     "text": [
      "Rate limit exceeded. Retrying in 0.5 seconds...\n",
      "Rate limit exceeded. Retrying in 1.0 seconds...\n"
     ]
    },
    {
     "name": "stderr",
     "output_type": "stream",
     "text": [
      " 86%|████████████████████████████████████████████████████████████████████████████████████████████████████████▋                 | 15533/18106 [2:16:23<21:11,  2.02it/s]"
     ]
    },
    {
     "name": "stdout",
     "output_type": "stream",
     "text": [
      "Rate limit exceeded. Retrying in 0.5 seconds...\n",
      "Rate limit exceeded. Retrying in 1.0 seconds...\n",
      "Rate limit exceeded. Retrying in 2.0 seconds...\n"
     ]
    },
    {
     "name": "stderr",
     "output_type": "stream",
     "text": [
      " 86%|█████████████████████████████████████████████████████████████████████████████████████████████████████████▍                | 15653/18106 [2:17:26<21:32,  1.90it/s]"
     ]
    },
    {
     "name": "stdout",
     "output_type": "stream",
     "text": [
      "Rate limit exceeded. Retrying in 0.5 seconds...\n"
     ]
    },
    {
     "name": "stderr",
     "output_type": "stream",
     "text": [
      " 87%|██████████████████████████████████████████████████████████████████████████████████████████████████████████▎               | 15773/18106 [2:18:21<19:28,  2.00it/s]"
     ]
    },
    {
     "name": "stdout",
     "output_type": "stream",
     "text": [
      "Rate limit exceeded. Retrying in 0.5 seconds...\n",
      "Rate limit exceeded. Retrying in 1.0 seconds...\n",
      "Rate limit exceeded. Retrying in 2.0 seconds...\n",
      "Rate limit exceeded. Retrying in 4.0 seconds...\n"
     ]
    },
    {
     "name": "stderr",
     "output_type": "stream",
     "text": [
      " 88%|███████████████████████████████████████████████████████████████████████████████████████████████████████████               | 15893/18106 [2:19:24<15:13,  2.42it/s]"
     ]
    },
    {
     "name": "stdout",
     "output_type": "stream",
     "text": [
      "Rate limit exceeded. Retrying in 0.5 seconds...\n",
      "Rate limit exceeded. Retrying in 1.0 seconds...\n",
      "Rate limit exceeded. Retrying in 2.0 seconds...\n"
     ]
    },
    {
     "name": "stderr",
     "output_type": "stream",
     "text": [
      " 88%|███████████████████████████████████████████████████████████████████████████████████████████████████████████▉              | 16013/18106 [2:20:21<17:51,  1.95it/s]"
     ]
    },
    {
     "name": "stdout",
     "output_type": "stream",
     "text": [
      "Rate limit exceeded. Retrying in 0.5 seconds...\n",
      "Rate limit exceeded. Retrying in 1.0 seconds...\n",
      "Rate limit exceeded. Retrying in 2.0 seconds...\n",
      "Rate limit exceeded. Retrying in 4.0 seconds...\n"
     ]
    },
    {
     "name": "stderr",
     "output_type": "stream",
     "text": [
      " 89%|████████████████████████████████████████████████████████████████████████████████████████████████████████████▋             | 16133/18106 [2:21:25<15:19,  2.15it/s]"
     ]
    },
    {
     "name": "stdout",
     "output_type": "stream",
     "text": [
      "Rate limit exceeded. Retrying in 0.5 seconds...\n",
      "Rate limit exceeded. Retrying in 1.0 seconds...\n"
     ]
    },
    {
     "name": "stderr",
     "output_type": "stream",
     "text": [
      " 90%|█████████████████████████████████████████████████████████████████████████████████████████████████████████████▌            | 16253/18106 [2:22:16<12:17,  2.51it/s]"
     ]
    },
    {
     "name": "stdout",
     "output_type": "stream",
     "text": [
      "Rate limit exceeded. Retrying in 0.5 seconds...\n",
      "Rate limit exceeded. Retrying in 1.0 seconds...\n",
      "Rate limit exceeded. Retrying in 2.0 seconds...\n",
      "Rate limit exceeded. Retrying in 4.0 seconds...\n",
      "Rate limit exceeded. Retrying in 8.0 seconds...\n"
     ]
    },
    {
     "name": "stderr",
     "output_type": "stream",
     "text": [
      " 91%|███████████████████████████████████████████████████████████████████████████████████████████████████████████████           | 16487/18106 [2:24:24<10:39,  2.53it/s]"
     ]
    },
    {
     "name": "stdout",
     "output_type": "stream",
     "text": [
      "Rate limit exceeded. Retrying in 0.5 seconds...\n",
      "Rate limit exceeded. Retrying in 1.0 seconds...\n",
      "Rate limit exceeded. Retrying in 2.0 seconds...\n"
     ]
    },
    {
     "name": "stderr",
     "output_type": "stream",
     "text": [
      " 92%|███████████████████████████████████████████████████████████████████████████████████████████████████████████████▉          | 16607/18106 [2:25:21<10:03,  2.49it/s]"
     ]
    },
    {
     "name": "stdout",
     "output_type": "stream",
     "text": [
      "Rate limit exceeded. Retrying in 0.5 seconds...\n",
      "Rate limit exceeded. Retrying in 1.0 seconds...\n",
      "Rate limit exceeded. Retrying in 2.0 seconds...\n",
      "Rate limit exceeded. Retrying in 4.0 seconds...\n"
     ]
    },
    {
     "name": "stderr",
     "output_type": "stream",
     "text": [
      " 92%|████████████████████████████████████████████████████████████████████████████████████████████████████████████████▋         | 16727/18106 [2:26:24<11:09,  2.06it/s]"
     ]
    },
    {
     "name": "stdout",
     "output_type": "stream",
     "text": [
      "Rate limit exceeded. Retrying in 0.5 seconds...\n",
      "Rate limit exceeded. Retrying in 1.0 seconds...\n",
      "Rate limit exceeded. Retrying in 2.0 seconds...\n"
     ]
    },
    {
     "name": "stderr",
     "output_type": "stream",
     "text": [
      " 93%|█████████████████████████████████████████████████████████████████████████████████████████████████████████████████▌        | 16847/18106 [2:27:24<10:24,  2.02it/s]"
     ]
    },
    {
     "name": "stdout",
     "output_type": "stream",
     "text": [
      "Rate limit exceeded. Retrying in 0.5 seconds...\n",
      "Rate limit exceeded. Retrying in 1.0 seconds...\n",
      "Rate limit exceeded. Retrying in 2.0 seconds...\n"
     ]
    },
    {
     "name": "stderr",
     "output_type": "stream",
     "text": [
      " 94%|██████████████████████████████████████████████████████████████████████████████████████████████████████████████████▎       | 16967/18106 [2:28:22<08:23,  2.26it/s]"
     ]
    },
    {
     "name": "stdout",
     "output_type": "stream",
     "text": [
      "Rate limit exceeded. Retrying in 0.5 seconds...\n",
      "Rate limit exceeded. Retrying in 1.0 seconds...\n",
      "Rate limit exceeded. Retrying in 2.0 seconds...\n"
     ]
    },
    {
     "name": "stderr",
     "output_type": "stream",
     "text": [
      " 94%|███████████████████████████████████████████████████████████████████████████████████████████████████████████████████▏      | 17087/18106 [2:29:19<07:36,  2.23it/s]"
     ]
    },
    {
     "name": "stdout",
     "output_type": "stream",
     "text": [
      "Rate limit exceeded. Retrying in 0.5 seconds...\n",
      "Rate limit exceeded. Retrying in 1.0 seconds...\n",
      "Rate limit exceeded. Retrying in 2.0 seconds...\n",
      "Rate limit exceeded. Retrying in 4.0 seconds...\n"
     ]
    },
    {
     "name": "stderr",
     "output_type": "stream",
     "text": [
      " 95%|███████████████████████████████████████████████████████████████████████████████████████████████████████████████████▉      | 17207/18106 [2:30:17<05:49,  2.57it/s]"
     ]
    },
    {
     "name": "stdout",
     "output_type": "stream",
     "text": [
      "Rate limit exceeded. Retrying in 0.5 seconds...\n",
      "Rate limit exceeded. Retrying in 1.0 seconds...\n",
      "Rate limit exceeded. Retrying in 2.0 seconds...\n",
      "Rate limit exceeded. Retrying in 4.0 seconds...\n",
      "Rate limit exceeded. Retrying in 8.0 seconds...\n"
     ]
    },
    {
     "name": "stderr",
     "output_type": "stream",
     "text": [
      " 96%|████████████████████████████████████████████████████████████████████████████████████████████████████████████████████▊     | 17328/18106 [2:31:26<06:15,  2.07it/s]"
     ]
    },
    {
     "name": "stdout",
     "output_type": "stream",
     "text": [
      "Rate limit exceeded. Retrying in 0.5 seconds...\n"
     ]
    },
    {
     "name": "stderr",
     "output_type": "stream",
     "text": [
      " 96%|█████████████████████████████████████████████████████████████████████████████████████████████████████████████████████▌    | 17448/18106 [2:32:25<05:24,  2.03it/s]"
     ]
    },
    {
     "name": "stdout",
     "output_type": "stream",
     "text": [
      "Rate limit exceeded. Retrying in 0.5 seconds...\n",
      "Rate limit exceeded. Retrying in 1.0 seconds...\n"
     ]
    },
    {
     "name": "stderr",
     "output_type": "stream",
     "text": [
      " 97%|██████████████████████████████████████████████████████████████████████████████████████████████████████████████████████▎   | 17568/18106 [2:33:24<04:14,  2.12it/s]"
     ]
    },
    {
     "name": "stdout",
     "output_type": "stream",
     "text": [
      "Rate limit exceeded. Retrying in 0.5 seconds...\n",
      "Rate limit exceeded. Retrying in 1.0 seconds...\n",
      "Rate limit exceeded. Retrying in 2.0 seconds...\n"
     ]
    },
    {
     "name": "stderr",
     "output_type": "stream",
     "text": [
      " 98%|███████████████████████████████████████████████████████████████████████████████████████████████████████████████████████▏  | 17688/18106 [2:34:24<04:04,  1.71it/s]"
     ]
    },
    {
     "name": "stdout",
     "output_type": "stream",
     "text": [
      "Rate limit exceeded. Retrying in 0.5 seconds...\n",
      "Rate limit exceeded. Retrying in 1.0 seconds...\n",
      "Rate limit exceeded. Retrying in 2.0 seconds...\n"
     ]
    },
    {
     "name": "stderr",
     "output_type": "stream",
     "text": [
      " 98%|███████████████████████████████████████████████████████████████████████████████████████████████████████████████████████▉  | 17808/18106 [2:35:25<02:12,  2.25it/s]"
     ]
    },
    {
     "name": "stdout",
     "output_type": "stream",
     "text": [
      "Rate limit exceeded. Retrying in 0.5 seconds...\n",
      "Rate limit exceeded. Retrying in 1.0 seconds...\n"
     ]
    },
    {
     "name": "stderr",
     "output_type": "stream",
     "text": [
      " 99%|████████████████████████████████████████████████████████████████████████████████████████████████████████████████████████▊ | 17928/18106 [2:36:21<01:10,  2.53it/s]"
     ]
    },
    {
     "name": "stdout",
     "output_type": "stream",
     "text": [
      "Rate limit exceeded. Retrying in 0.5 seconds...\n",
      "Rate limit exceeded. Retrying in 1.0 seconds...\n",
      "Rate limit exceeded. Retrying in 2.0 seconds...\n",
      "Rate limit exceeded. Retrying in 4.0 seconds...\n"
     ]
    },
    {
     "name": "stderr",
     "output_type": "stream",
     "text": [
      "100%|██████████████████████████████████████████████████████████████████████████████████████████████████████████████████████████| 18106/18106 [2:37:53<00:00,  1.91it/s]\n"
     ]
    }
   ],
   "source": [
    "base_url = \"https://api.iucnredlist.org/api/v4/assessment\"\n",
    "\n",
    "# Assuming df_combined is defined elsewhere in your code\n",
    "assessements_list = marine_df.loc[marine_df.groupby('sis_taxon_id')['year_published'].idxmax()].reset_index(drop=True)\n",
    "\n",
    "# List of assessment IDs\n",
    "assessment_ids = assessements_list['assessment_id'].dropna().astype(int).values\n",
    "\n",
    "# Initialize empty lists to hold all the data if not already defined\n",
    "try:\n",
    "    all_data\n",
    "except NameError:\n",
    "    all_data = []\n",
    "\n",
    "try:\n",
    "    all_data_threats\n",
    "except NameError:\n",
    "    all_data_threats = []\n",
    "\n",
    "# Extract processed assessment_ids from all_data\n",
    "processed_assessment_ids = {entry[\"assessment_id\"] for entry in all_data}\n",
    "\n",
    "def fetch_data_with_retry(url, headers, retries=5, backoff_factor=0.5):\n",
    "    for i in range(retries):\n",
    "        response = requests.get(url, headers=headers)\n",
    "        if response.status_code == 200:\n",
    "            return response.json()\n",
    "        elif response.status_code == 429:\n",
    "            wait_time = backoff_factor * (2 ** i)\n",
    "            print(f\"Rate limit exceeded. Retrying in {wait_time} seconds...\")\n",
    "            time.sleep(wait_time)\n",
    "        else:\n",
    "            print(f\"Failed to retrieve data: {response.status_code} - {response.text}\")\n",
    "            break\n",
    "    return None\n",
    "\n",
    "if not os.path.exists(\"../Data/all_threats_species.csv\"):\n",
    "    for assessment_id in tqdm(assessment_ids):\n",
    "        # Skip if the assessment_id is already processed\n",
    "        if assessment_id in processed_assessment_ids:\n",
    "            continue\n",
    "    \n",
    "        # Construct the URL for the current assessment ID\n",
    "        url = f\"{base_url}/{assessment_id}\"\n",
    "        \n",
    "        # Fetch the data with retry mechanism\n",
    "        data = fetch_data_with_retry(url, headers)\n",
    "        \n",
    "        if data:\n",
    "            trend = data.get(\"population_trend\") if data.get(\"population_trend\") is None else data.get(\"population_trend\").get(\"code\")\n",
    "            class_name = data.get(\"taxon\", {}).get(\"class_name\")\n",
    "            sis_taxon_id = data.get(\"sis_taxon_id\", [])\n",
    "            locations = data.get(\"locations\", [])\n",
    "            threats = data.get(\"threats\", [])\n",
    "            status = data.get(\"red_list_category\", {}).get(\"code\")\n",
    "            year_published = data.get(\"year_published\", [])\n",
    "    \n",
    "            # Extract the common English name (if available)\n",
    "            common_names = data.get(\"taxon\", {}).get(\"common_names\", [])\n",
    "            english_common_name = next((name['name'] for name in common_names if name['language']['code'] == 'eng'), None)\n",
    "            \n",
    "            # Add the assessment data to the list\n",
    "            for location in locations:\n",
    "                country_code = location.get(\"code\")\n",
    "                assessment_data = {\n",
    "                    \"assessment_id\": assessment_id,\n",
    "                    \"sis_taxon_id\": sis_taxon_id,\n",
    "                    \"country_code\": country_code,\n",
    "                    \"trend\": trend,\n",
    "                    \"class_name\": class_name,\n",
    "                    \"status\": status,\n",
    "                    \"year_published\": year_published,\n",
    "                    \"english_common_name\": english_common_name  # Store the common English name here\n",
    "                }\n",
    "                all_data.append(assessment_data)\n",
    "    \n",
    "            # Add the threats data to the list\n",
    "            for location in locations:\n",
    "                country_code = location.get(\"code\")\n",
    "                for threat in threats:\n",
    "                    threat_code = threat.get(\"code\")\n",
    "                    threat_data = {\n",
    "                        \"assessment_id\": assessment_id,\n",
    "                        \"sis_taxon_id\": sis_taxon_id,\n",
    "                        \"country_code\": country_code,\n",
    "                        \"threat_code\": threat_code,\n",
    "                        \"class_name\": class_name,\n",
    "                        \"year_published\": year_published,\n",
    "                        \"english_common_name\": english_common_name  # Store the common English name here\n",
    "                    }\n",
    "                    all_data_threats.append(threat_data)\n",
    "            \n",
    "            # Mark the assessment_id as processed\n",
    "            processed_assessment_ids.add(assessment_id)\n",
    "    \n",
    "    # Create DataFrames from the collected data\n",
    "    trends_df = pd.DataFrame(all_data)\n",
    "    threats_df = pd.DataFrame(all_data_threats)\n",
    "    trends_df.to_csv(\"../Data/all_trends_species.csv\")\n",
    "    threats_df.to_csv(\"../Data/all_threats_species.csv\")\n",
    "else:\n",
    "    trends_df = pd.read_csv(\"../Data/all_trends_species.csv\")\n",
    "    threats_df = pd.read_csv(\"../Data/all_threats_species.csv\")"
   ]
  },
  {
   "cell_type": "markdown",
   "id": "ac63554f-5c25-4e86-9f8a-3d86097ea786",
   "metadata": {},
   "source": [
    "## Figure 1"
   ]
  },
  {
   "cell_type": "code",
   "execution_count": 25,
   "id": "6ce75c3d-a1ee-495d-b431-145a79dd4fa6",
   "metadata": {},
   "outputs": [
    {
     "name": "stderr",
     "output_type": "stream",
     "text": [
      "100%|███████████████████████████████████████████████████████████████████████████████████████████████████████████████████████████| 17975/17975 [00:53<00:00, 333.37it/s]\n"
     ]
    }
   ],
   "source": [
    "trends_df = trends_df[[\"assessment_id\",\"year_published\",\"sis_taxon_id\",\"country_code\",\"status\",\"class_name\",\"english_common_name\",\"trend\"]]#.merge(df_unique[[\"assessment_id\",\"year_published\",\"sis_taxon_id\"]], on=\"assessment_id\", how=\"inner\")\n",
    "trends_df['year_published'] = trends_df['year_published'].astype(int)\n",
    "\n",
    "# Mapping dictionary\n",
    "threats_mapping = {\n",
    "    'DD': 'Data Deficient',\n",
    "    'LC': 'Least Concern',\n",
    "    'NT': 'Near Threatened',\n",
    "    'VU': 'Vulnerable',\n",
    "    'EN': 'Endangered',\n",
    "    'CR': 'Critically Endangered',\n",
    "    'EW': 'Extinct in the Wild',\n",
    "    'EX': 'Extinct',\n",
    "    'NE': 'Not Evaluated',\n",
    "}\n",
    "\n",
    "# Replace the values in the 'Threat' column\n",
    "trends_df['Threat'] = trends_df['status'].replace(threats_mapping)\n",
    "\n",
    "trends_df.loc[trends_df[\"trend\"] == 0, 'trend_title'] = \"Increasing\"\n",
    "trends_df.loc[trends_df[\"trend\"] == 1, 'trend_title'] = \"Decreasing\"\n",
    "trends_df.loc[trends_df[\"trend\"] == 2, 'trend_title'] = \"Stable\"\n",
    "trends_df.loc[trends_df[\"trend\"] == 3, 'trend_title'] = \"Unknown\"\n",
    "\n",
    "# Initialize an empty list to store new rows\n",
    "new_rows = []\n",
    "\n",
    "# Define the range of years\n",
    "years = range(1997, 2025)\n",
    "\n",
    "# Iterate through each sis_taxon_id\n",
    "for sis_taxon_id in tqdm(trends_df['sis_taxon_id'].unique()):\n",
    "    # Filter data for the current sis_taxon_id\n",
    "    df_sis = trends_df[trends_df['sis_taxon_id'] == sis_taxon_id]\n",
    "    \n",
    "    # Iterate through each year in the defined range\n",
    "    for year in years:\n",
    "        # Check if there is an entry for the current year\n",
    "        if year not in df_sis['year_published'].values:\n",
    "            # Find the most recent threat categorization from a previous year\n",
    "            previous_threats = df_sis[df_sis['year_published'] < year]\n",
    "            if not previous_threats.empty:\n",
    "                last_threat = previous_threats.iloc[-1]['Threat']\n",
    "                class_name = previous_threats.iloc[-1]['class_name']\n",
    "                country_code = previous_threats.iloc[-1]['country_code']\n",
    "                english_common_name = previous_threats.iloc[-1]['english_common_name']\n",
    "                trend_title = previous_threats.iloc[-1]['trend_title']\n",
    "                # Create a new row with the current year, sis_taxon_id, and the most recent threat categorization\n",
    "                new_row = {\n",
    "                    'year_published': year,\n",
    "                    'Threat': last_threat,\n",
    "                    'sis_taxon_id': sis_taxon_id,\n",
    "                    'class_name': class_name,\n",
    "                    \"country_code\": country_code,\n",
    "                    \"english_common_name\": english_common_name,\n",
    "                    \"trend_title\": trend_title,\n",
    "                }\n",
    "                new_rows.append(new_row)\n",
    "\n",
    "# Create a DataFrame from the new rows\n",
    "df_new_rows = pd.DataFrame(new_rows)\n",
    "\n",
    "# Append the new rows to the original dataframe\n",
    "df_combined = pd.concat([trends_df, df_new_rows])\n",
    "\n",
    "# Sort the combined dataframe\n",
    "df_combined = df_combined.sort_values(by=['sis_taxon_id', 'year_published']).reset_index(drop=True)\n",
    "\n",
    "# Apply the function to the country_code column\n",
    "df_combined['country_name'] = df_combined['country_code'].apply(get_country_name)"
   ]
  },
  {
   "cell_type": "code",
   "execution_count": 26,
   "id": "bc48c5a1-d77a-4e16-8e95-62fe9dc980fc",
   "metadata": {},
   "outputs": [
    {
     "data": {
      "image/png": "[encoded data removed]",
      "text/plain": [
       "<Figure size 1200x1000 with 2 Axes>"
      ]
     },
     "metadata": {},
     "output_type": "display_data"
    }
   ],
   "source": [
    "# Define the mapping\n",
    "class_to_category = {\n",
    "    'ACTINOPTERYGII': 'Fish', \n",
    "    'CHONDRICHTHYES': 'Fish', \n",
    "    'SARCOPTERYGII': 'Fish', \n",
    "    'PETROMYZONTI': 'Fish',\n",
    "    'MYXINI': 'Fish',\n",
    "    'CEPHALASPIDOMORPHI': 'Fish',\n",
    "    'MAMMALIA': 'Mammals', \n",
    "    'REPTILIA': 'Reptiles', \n",
    "    'AVES': 'Birds'\n",
    "}\n",
    "\n",
    "df_combined = df_combined.drop_duplicates([\"sis_taxon_id\",\"year_published\"]).merge(marine_df.drop_duplicates(\"sis_taxon_id\")[[\"sis_taxon_id\"]],on='sis_taxon_id',how='inner')\n",
    "\n",
    "# Map the class names to categories\n",
    "df_combined['category'] = df_combined['class_name'].map(class_to_category)\n",
    "\n",
    "# Remove rows where category is NaN (those not in the specified classes)\n",
    "df_combined = df_combined.dropna(subset=['category'])\n",
    "\n",
    "# Create a pivot table for the total counts of species across all years and categories\n",
    "pivot_total = df_combined.pivot_table(index='year_published', columns='category', aggfunc='size', fill_value=0)\n",
    "\n",
    "# Filter the data for specific threats\n",
    "filtered_df = df_combined[df_combined['Threat'].isin(['Critically Endangered', 'Endangered', 'EW', 'EX'])]\n",
    "\n",
    "# Create a pivot table for the filtered (threatened) species\n",
    "pivot_filtered = filtered_df.pivot_table(index='year_published', columns='category', aggfunc='size', fill_value=0)\n",
    "\n",
    "# Define the pastel colors\n",
    "colors = {\n",
    "    'Fish': '#a6cee3',      # pastel blue\n",
    "    'Mammals': '#b2df8a',   # pastel green\n",
    "    'Reptiles': '#fb9a99',  # pastel red\n",
    "    'Birds': '#fdbf6f'      # pastel yellow\n",
    "}\n",
    "\n",
    "# Plot the total counts of species across all categories and years\n",
    "plt.figure(figsize=(12, 10))\n",
    "\n",
    "plt.subplot(2, 1, 1)\n",
    "pivot_total.plot(kind='bar', stacked=True, figsize=(12, 10), color=[colors.get(x, '#ffffff') for x in pivot_total.columns], ax=plt.gca())\n",
    "plt.title('Total Number of Species Over Time by Category')\n",
    "plt.xlabel('Year Published')\n",
    "plt.ylabel('Total Number of Species')\n",
    "plt.legend(title='Category')\n",
    "\n",
    "# Plot the filtered (threatened) species counts\n",
    "plt.subplot(2, 1, 2)\n",
    "pivot_filtered.plot(kind='bar', stacked=True, figsize=(12, 10), color=[colors.get(x, '#ffffff') for x in pivot_filtered.columns], ax=plt.gca())\n",
    "plt.title('Number of Threatened Species Over Time by Category')\n",
    "plt.xlabel('Year Published')\n",
    "plt.ylabel('Number of Threatened Species')\n",
    "plt.legend(title='Category')\n",
    "\n",
    "# Adjust layout and save the plot as a PDF\n",
    "plt.tight_layout()\n",
    "plt.savefig('species_comparison_histogram.pdf')\n",
    "\n",
    "# Show the plot\n",
    "plt.show()\n"
   ]
  },
  {
   "cell_type": "code",
   "execution_count": 27,
   "id": "568bb534-33dc-434a-becd-601aead0488f",
   "metadata": {},
   "outputs": [],
   "source": [
    "pivot_filtered['All'] = (pivot_filtered[\"Birds\"] + pivot_filtered[\"Fish\"] + pivot_filtered[\"Mammals\"] + pivot_filtered[\"Reptiles\"])\n",
    "pivot_total['All'] = (pivot_total[\"Birds\"] + pivot_total[\"Fish\"] + pivot_total[\"Mammals\"] + pivot_total[\"Reptiles\"])\n",
    "\n",
    "pivot_percent = (pivot_filtered / pivot_total)\n",
    "protect_marine_life_df = pivot_percent.reset_index()\n",
    "X_years=protect_marine_life_df[\"year_published\"].values.reshape([-1,1])\n",
    "y_counts=(pivot_filtered[\"Birds\"] + pivot_filtered[\"Fish\"] + pivot_filtered[\"Mammals\"] + pivot_filtered[\"Reptiles\"]).values/\\\n",
    "    (pivot_total[\"Birds\"] + pivot_total[\"Fish\"] + pivot_total[\"Mammals\"] + pivot_total[\"Reptiles\"]).values"
   ]
  },
  {
   "cell_type": "code",
   "execution_count": 28,
   "id": "7a8ab870-9168-4fc0-ab76-0865294c840c",
   "metadata": {},
   "outputs": [
    {
     "data": {
      "text/html": [
       "<div>\n",
       "<style scoped>\n",
       "    .dataframe tbody tr th:only-of-type {\n",
       "        vertical-align: middle;\n",
       "    }\n",
       "\n",
       "    .dataframe tbody tr th {\n",
       "        vertical-align: top;\n",
       "    }\n",
       "\n",
       "    .dataframe thead th {\n",
       "        text-align: right;\n",
       "    }\n",
       "</style>\n",
       "<table border=\"1\" class=\"dataframe\">\n",
       "  <thead>\n",
       "    <tr style=\"text-align: right;\">\n",
       "      <th>category</th>\n",
       "      <th>year_published</th>\n",
       "      <th>Birds</th>\n",
       "      <th>Fish</th>\n",
       "      <th>Mammals</th>\n",
       "      <th>Reptiles</th>\n",
       "      <th>All</th>\n",
       "      <th>Linear Trend</th>\n",
       "    </tr>\n",
       "  </thead>\n",
       "  <tbody>\n",
       "    <tr>\n",
       "      <th>0</th>\n",
       "      <td>1996</td>\n",
       "      <td>0.000000</td>\n",
       "      <td>0.000000</td>\n",
       "      <td>0.250000</td>\n",
       "      <td>0.500000</td>\n",
       "      <td>0.230769</td>\n",
       "      <td>0.217105</td>\n",
       "    </tr>\n",
       "    <tr>\n",
       "      <th>1</th>\n",
       "      <td>1997</td>\n",
       "      <td>0.000000</td>\n",
       "      <td>0.000000</td>\n",
       "      <td>0.250000</td>\n",
       "      <td>0.500000</td>\n",
       "      <td>0.230769</td>\n",
       "      <td>0.208580</td>\n",
       "    </tr>\n",
       "    <tr>\n",
       "      <th>2</th>\n",
       "      <td>1998</td>\n",
       "      <td>0.000000</td>\n",
       "      <td>0.000000</td>\n",
       "      <td>0.250000</td>\n",
       "      <td>0.500000</td>\n",
       "      <td>0.230769</td>\n",
       "      <td>0.200055</td>\n",
       "    </tr>\n",
       "    <tr>\n",
       "      <th>3</th>\n",
       "      <td>1999</td>\n",
       "      <td>0.000000</td>\n",
       "      <td>0.000000</td>\n",
       "      <td>0.250000</td>\n",
       "      <td>0.500000</td>\n",
       "      <td>0.230769</td>\n",
       "      <td>0.191530</td>\n",
       "    </tr>\n",
       "    <tr>\n",
       "      <th>4</th>\n",
       "      <td>2000</td>\n",
       "      <td>0.000000</td>\n",
       "      <td>0.250000</td>\n",
       "      <td>0.222222</td>\n",
       "      <td>0.500000</td>\n",
       "      <td>0.266667</td>\n",
       "      <td>0.183005</td>\n",
       "    </tr>\n",
       "    <tr>\n",
       "      <th>5</th>\n",
       "      <td>2001</td>\n",
       "      <td>0.000000</td>\n",
       "      <td>0.250000</td>\n",
       "      <td>0.222222</td>\n",
       "      <td>0.500000</td>\n",
       "      <td>0.266667</td>\n",
       "      <td>0.174480</td>\n",
       "    </tr>\n",
       "    <tr>\n",
       "      <th>6</th>\n",
       "      <td>2002</td>\n",
       "      <td>0.000000</td>\n",
       "      <td>0.250000</td>\n",
       "      <td>0.222222</td>\n",
       "      <td>0.500000</td>\n",
       "      <td>0.266667</td>\n",
       "      <td>0.165955</td>\n",
       "    </tr>\n",
       "    <tr>\n",
       "      <th>7</th>\n",
       "      <td>2003</td>\n",
       "      <td>0.000000</td>\n",
       "      <td>0.025000</td>\n",
       "      <td>0.222222</td>\n",
       "      <td>0.500000</td>\n",
       "      <td>0.078431</td>\n",
       "      <td>0.157430</td>\n",
       "    </tr>\n",
       "    <tr>\n",
       "      <th>8</th>\n",
       "      <td>2004</td>\n",
       "      <td>0.000000</td>\n",
       "      <td>0.042553</td>\n",
       "      <td>0.111111</td>\n",
       "      <td>0.250000</td>\n",
       "      <td>0.060345</td>\n",
       "      <td>0.148904</td>\n",
       "    </tr>\n",
       "    <tr>\n",
       "      <th>9</th>\n",
       "      <td>2005</td>\n",
       "      <td>0.000000</td>\n",
       "      <td>0.042553</td>\n",
       "      <td>0.111111</td>\n",
       "      <td>0.250000</td>\n",
       "      <td>0.060345</td>\n",
       "      <td>0.140379</td>\n",
       "    </tr>\n",
       "    <tr>\n",
       "      <th>10</th>\n",
       "      <td>2006</td>\n",
       "      <td>0.000000</td>\n",
       "      <td>0.073826</td>\n",
       "      <td>0.166667</td>\n",
       "      <td>0.222222</td>\n",
       "      <td>0.110048</td>\n",
       "      <td>0.131854</td>\n",
       "    </tr>\n",
       "    <tr>\n",
       "      <th>11</th>\n",
       "      <td>2007</td>\n",
       "      <td>0.000000</td>\n",
       "      <td>0.089286</td>\n",
       "      <td>0.166667</td>\n",
       "      <td>0.140845</td>\n",
       "      <td>0.110266</td>\n",
       "      <td>0.123329</td>\n",
       "    </tr>\n",
       "    <tr>\n",
       "      <th>12</th>\n",
       "      <td>2008</td>\n",
       "      <td>0.000000</td>\n",
       "      <td>0.101064</td>\n",
       "      <td>0.148148</td>\n",
       "      <td>0.162162</td>\n",
       "      <td>0.121107</td>\n",
       "      <td>0.114804</td>\n",
       "    </tr>\n",
       "    <tr>\n",
       "      <th>13</th>\n",
       "      <td>2009</td>\n",
       "      <td>0.000000</td>\n",
       "      <td>0.072581</td>\n",
       "      <td>0.148148</td>\n",
       "      <td>0.148148</td>\n",
       "      <td>0.089583</td>\n",
       "      <td>0.106279</td>\n",
       "    </tr>\n",
       "    <tr>\n",
       "      <th>14</th>\n",
       "      <td>2010</td>\n",
       "      <td>0.000000</td>\n",
       "      <td>0.022059</td>\n",
       "      <td>0.142857</td>\n",
       "      <td>0.084967</td>\n",
       "      <td>0.027577</td>\n",
       "      <td>0.097754</td>\n",
       "    </tr>\n",
       "    <tr>\n",
       "      <th>15</th>\n",
       "      <td>2011</td>\n",
       "      <td>0.000000</td>\n",
       "      <td>0.022184</td>\n",
       "      <td>0.142857</td>\n",
       "      <td>0.094972</td>\n",
       "      <td>0.028731</td>\n",
       "      <td>0.089229</td>\n",
       "    </tr>\n",
       "    <tr>\n",
       "      <th>16</th>\n",
       "      <td>2012</td>\n",
       "      <td>0.000000</td>\n",
       "      <td>0.021531</td>\n",
       "      <td>0.172414</td>\n",
       "      <td>0.102151</td>\n",
       "      <td>0.028645</td>\n",
       "      <td>0.080704</td>\n",
       "    </tr>\n",
       "    <tr>\n",
       "      <th>17</th>\n",
       "      <td>2013</td>\n",
       "      <td>0.000000</td>\n",
       "      <td>0.021302</td>\n",
       "      <td>0.193548</td>\n",
       "      <td>0.109453</td>\n",
       "      <td>0.029635</td>\n",
       "      <td>0.072179</td>\n",
       "    </tr>\n",
       "    <tr>\n",
       "      <th>18</th>\n",
       "      <td>2014</td>\n",
       "      <td>0.000000</td>\n",
       "      <td>0.020773</td>\n",
       "      <td>0.187500</td>\n",
       "      <td>0.113861</td>\n",
       "      <td>0.027297</td>\n",
       "      <td>0.063654</td>\n",
       "    </tr>\n",
       "    <tr>\n",
       "      <th>19</th>\n",
       "      <td>2015</td>\n",
       "      <td>0.000000</td>\n",
       "      <td>0.017300</td>\n",
       "      <td>0.183333</td>\n",
       "      <td>0.111650</td>\n",
       "      <td>0.022053</td>\n",
       "      <td>0.055129</td>\n",
       "    </tr>\n",
       "    <tr>\n",
       "      <th>20</th>\n",
       "      <td>2016</td>\n",
       "      <td>0.042969</td>\n",
       "      <td>0.016443</td>\n",
       "      <td>0.120370</td>\n",
       "      <td>0.114894</td>\n",
       "      <td>0.021862</td>\n",
       "      <td>0.046604</td>\n",
       "    </tr>\n",
       "    <tr>\n",
       "      <th>21</th>\n",
       "      <td>2017</td>\n",
       "      <td>0.060897</td>\n",
       "      <td>0.016921</td>\n",
       "      <td>0.155039</td>\n",
       "      <td>0.103448</td>\n",
       "      <td>0.024233</td>\n",
       "      <td>0.038079</td>\n",
       "    </tr>\n",
       "    <tr>\n",
       "      <th>22</th>\n",
       "      <td>2018</td>\n",
       "      <td>0.126280</td>\n",
       "      <td>0.016884</td>\n",
       "      <td>0.180124</td>\n",
       "      <td>0.097686</td>\n",
       "      <td>0.030579</td>\n",
       "      <td>0.029554</td>\n",
       "    </tr>\n",
       "    <tr>\n",
       "      <th>23</th>\n",
       "      <td>2019</td>\n",
       "      <td>0.125000</td>\n",
       "      <td>0.018737</td>\n",
       "      <td>0.186441</td>\n",
       "      <td>0.116822</td>\n",
       "      <td>0.032130</td>\n",
       "      <td>0.021029</td>\n",
       "    </tr>\n",
       "    <tr>\n",
       "      <th>24</th>\n",
       "      <td>2020</td>\n",
       "      <td>0.125541</td>\n",
       "      <td>0.024502</td>\n",
       "      <td>0.180412</td>\n",
       "      <td>0.126411</td>\n",
       "      <td>0.037245</td>\n",
       "      <td>0.012504</td>\n",
       "    </tr>\n",
       "    <tr>\n",
       "      <th>25</th>\n",
       "      <td>2021</td>\n",
       "      <td>0.110865</td>\n",
       "      <td>0.029123</td>\n",
       "      <td>0.184466</td>\n",
       "      <td>0.137546</td>\n",
       "      <td>0.042660</td>\n",
       "      <td>0.003979</td>\n",
       "    </tr>\n",
       "    <tr>\n",
       "      <th>26</th>\n",
       "      <td>2022</td>\n",
       "      <td>0.116505</td>\n",
       "      <td>0.029165</td>\n",
       "      <td>0.191589</td>\n",
       "      <td>0.133452</td>\n",
       "      <td>0.042808</td>\n",
       "      <td>-0.004546</td>\n",
       "    </tr>\n",
       "    <tr>\n",
       "      <th>27</th>\n",
       "      <td>2023</td>\n",
       "      <td>0.117960</td>\n",
       "      <td>0.029499</td>\n",
       "      <td>0.168000</td>\n",
       "      <td>0.133333</td>\n",
       "      <td>0.043173</td>\n",
       "      <td>-0.013071</td>\n",
       "    </tr>\n",
       "    <tr>\n",
       "      <th>28</th>\n",
       "      <td>2024</td>\n",
       "      <td>0.117960</td>\n",
       "      <td>0.029628</td>\n",
       "      <td>0.168000</td>\n",
       "      <td>0.130293</td>\n",
       "      <td>0.043043</td>\n",
       "      <td>-0.021596</td>\n",
       "    </tr>\n",
       "  </tbody>\n",
       "</table>\n",
       "</div>"
      ],
      "text/plain": [
       "category  year_published     Birds      Fish   Mammals  Reptiles       All  \\\n",
       "0                   1996  0.000000  0.000000  0.250000  0.500000  0.230769   \n",
       "1                   1997  0.000000  0.000000  0.250000  0.500000  0.230769   \n",
       "2                   1998  0.000000  0.000000  0.250000  0.500000  0.230769   \n",
       "3                   1999  0.000000  0.000000  0.250000  0.500000  0.230769   \n",
       "4                   2000  0.000000  0.250000  0.222222  0.500000  0.266667   \n",
       "5                   2001  0.000000  0.250000  0.222222  0.500000  0.266667   \n",
       "6                   2002  0.000000  0.250000  0.222222  0.500000  0.266667   \n",
       "7                   2003  0.000000  0.025000  0.222222  0.500000  0.078431   \n",
       "8                   2004  0.000000  0.042553  0.111111  0.250000  0.060345   \n",
       "9                   2005  0.000000  0.042553  0.111111  0.250000  0.060345   \n",
       "10                  2006  0.000000  0.073826  0.166667  0.222222  0.110048   \n",
       "11                  2007  0.000000  0.089286  0.166667  0.140845  0.110266   \n",
       "12                  2008  0.000000  0.101064  0.148148  0.162162  0.121107   \n",
       "13                  2009  0.000000  0.072581  0.148148  0.148148  0.089583   \n",
       "14                  2010  0.000000  0.022059  0.142857  0.084967  0.027577   \n",
       "15                  2011  0.000000  0.022184  0.142857  0.094972  0.028731   \n",
       "16                  2012  0.000000  0.021531  0.172414  0.102151  0.028645   \n",
       "17                  2013  0.000000  0.021302  0.193548  0.109453  0.029635   \n",
       "18                  2014  0.000000  0.020773  0.187500  0.113861  0.027297   \n",
       "19                  2015  0.000000  0.017300  0.183333  0.111650  0.022053   \n",
       "20                  2016  0.042969  0.016443  0.120370  0.114894  0.021862   \n",
       "21                  2017  0.060897  0.016921  0.155039  0.103448  0.024233   \n",
       "22                  2018  0.126280  0.016884  0.180124  0.097686  0.030579   \n",
       "23                  2019  0.125000  0.018737  0.186441  0.116822  0.032130   \n",
       "24                  2020  0.125541  0.024502  0.180412  0.126411  0.037245   \n",
       "25                  2021  0.110865  0.029123  0.184466  0.137546  0.042660   \n",
       "26                  2022  0.116505  0.029165  0.191589  0.133452  0.042808   \n",
       "27                  2023  0.117960  0.029499  0.168000  0.133333  0.043173   \n",
       "28                  2024  0.117960  0.029628  0.168000  0.130293  0.043043   \n",
       "\n",
       "category  Linear Trend  \n",
       "0             0.217105  \n",
       "1             0.208580  \n",
       "2             0.200055  \n",
       "3             0.191530  \n",
       "4             0.183005  \n",
       "5             0.174480  \n",
       "6             0.165955  \n",
       "7             0.157430  \n",
       "8             0.148904  \n",
       "9             0.140379  \n",
       "10            0.131854  \n",
       "11            0.123329  \n",
       "12            0.114804  \n",
       "13            0.106279  \n",
       "14            0.097754  \n",
       "15            0.089229  \n",
       "16            0.080704  \n",
       "17            0.072179  \n",
       "18            0.063654  \n",
       "19            0.055129  \n",
       "20            0.046604  \n",
       "21            0.038079  \n",
       "22            0.029554  \n",
       "23            0.021029  \n",
       "24            0.012504  \n",
       "25            0.003979  \n",
       "26           -0.004546  \n",
       "27           -0.013071  \n",
       "28           -0.021596  "
      ]
     },
     "execution_count": 28,
     "metadata": {},
     "output_type": "execute_result"
    }
   ],
   "source": [
    "# Initialize and fit the linear regression model\n",
    "linear_model = LinearRegression()\n",
    "linear_model.fit(X_years, y_counts)\n",
    "\n",
    "# Predict the linear trend based on the years\n",
    "protect_marine_life_df['Linear Trend'] = linear_model.predict(X_years)\n",
    "\n",
    "protect_marine_life_df.fillna(0).to_csv(\"../Data/protect_marine_life_1.csv\")\n",
    "\n",
    "# Display the updated DataFrame with the linear trend\n",
    "protect_marine_life_df.fillna(0)"
   ]
  },
  {
   "cell_type": "markdown",
   "id": "41737651-087f-4efd-a8e6-79f95e55c548",
   "metadata": {},
   "source": [
    "## Fig 2"
   ]
  },
  {
   "cell_type": "code",
   "execution_count": 29,
   "id": "eb7a49c5-3d04-4cce-b964-e77c95a74329",
   "metadata": {},
   "outputs": [],
   "source": [
    "trends_df = pd.read_csv(\"all_country_trends.csv\")\n",
    "\n",
    "joint_df = df_combined.drop_duplicates(\"assessment_id\")[['sis_taxon_id','assessment_id','category']].merge(trends_df[['assessment_id','trend_title','country_name','country_code']],on=['assessment_id'])\n",
    "joint_df = joint_df.merge(marine_df.drop_duplicates(\"sis_taxon_id\")[[\"sis_taxon_id\"]],on='sis_taxon_id',how='inner')\n",
    "joint_df.to_csv(\"../Data/protect_marine_life_2.csv\")"
   ]
  },
  {
   "cell_type": "markdown",
   "id": "a4033b33-21d2-4881-a5b4-968bba5bfdf6",
   "metadata": {},
   "source": [
    "## Fig 3"
   ]
  },
  {
   "cell_type": "code",
   "execution_count": 30,
   "id": "6d6dee49-365e-4d46-a028-ef04e7f9bbe3",
   "metadata": {},
   "outputs": [
    {
     "data": {
      "text/html": [
       "<div>\n",
       "<style scoped>\n",
       "    .dataframe tbody tr th:only-of-type {\n",
       "        vertical-align: middle;\n",
       "    }\n",
       "\n",
       "    .dataframe tbody tr th {\n",
       "        vertical-align: top;\n",
       "    }\n",
       "\n",
       "    .dataframe thead th {\n",
       "        text-align: right;\n",
       "    }\n",
       "</style>\n",
       "<table border=\"1\" class=\"dataframe\">\n",
       "  <thead>\n",
       "    <tr style=\"text-align: right;\">\n",
       "      <th></th>\n",
       "      <th>sis_taxon_id</th>\n",
       "      <th>assessment_id</th>\n",
       "      <th>category</th>\n",
       "      <th>Threat</th>\n",
       "      <th>country_name</th>\n",
       "      <th>country_code</th>\n",
       "    </tr>\n",
       "  </thead>\n",
       "  <tbody>\n",
       "    <tr>\n",
       "      <th>60</th>\n",
       "      <td>222</td>\n",
       "      <td>97439806.0</td>\n",
       "      <td>Fish</td>\n",
       "      <td>Invasive and other problematic species, genes ...</td>\n",
       "      <td>Canada</td>\n",
       "      <td>CA</td>\n",
       "    </tr>\n",
       "    <tr>\n",
       "      <th>61</th>\n",
       "      <td>222</td>\n",
       "      <td>97439806.0</td>\n",
       "      <td>Fish</td>\n",
       "      <td>Biological resource use</td>\n",
       "      <td>Canada</td>\n",
       "      <td>CA</td>\n",
       "    </tr>\n",
       "    <tr>\n",
       "      <th>62</th>\n",
       "      <td>222</td>\n",
       "      <td>97439806.0</td>\n",
       "      <td>Fish</td>\n",
       "      <td>Invasive and other problematic species, genes ...</td>\n",
       "      <td>Canada</td>\n",
       "      <td>CA</td>\n",
       "    </tr>\n",
       "    <tr>\n",
       "      <th>63</th>\n",
       "      <td>222</td>\n",
       "      <td>97439806.0</td>\n",
       "      <td>Fish</td>\n",
       "      <td>Pollution</td>\n",
       "      <td>Canada</td>\n",
       "      <td>CA</td>\n",
       "    </tr>\n",
       "    <tr>\n",
       "      <th>64</th>\n",
       "      <td>222</td>\n",
       "      <td>97439806.0</td>\n",
       "      <td>Fish</td>\n",
       "      <td>Pollution</td>\n",
       "      <td>Canada</td>\n",
       "      <td>CA</td>\n",
       "    </tr>\n",
       "    <tr>\n",
       "      <th>...</th>\n",
       "      <td>...</td>\n",
       "      <td>...</td>\n",
       "      <td>...</td>\n",
       "      <td>...</td>\n",
       "      <td>...</td>\n",
       "      <td>...</td>\n",
       "    </tr>\n",
       "    <tr>\n",
       "      <th>405386</th>\n",
       "      <td>257548227</td>\n",
       "      <td>46664179.0</td>\n",
       "      <td>Fish</td>\n",
       "      <td>Pollution</td>\n",
       "      <td>United Arab Emirates</td>\n",
       "      <td>AE</td>\n",
       "    </tr>\n",
       "    <tr>\n",
       "      <th>405403</th>\n",
       "      <td>257549542</td>\n",
       "      <td>46664174.0</td>\n",
       "      <td>Fish</td>\n",
       "      <td>Biological resource use</td>\n",
       "      <td>India</td>\n",
       "      <td>IN</td>\n",
       "    </tr>\n",
       "    <tr>\n",
       "      <th>405404</th>\n",
       "      <td>257549542</td>\n",
       "      <td>46664174.0</td>\n",
       "      <td>Fish</td>\n",
       "      <td>Biological resource use</td>\n",
       "      <td>India</td>\n",
       "      <td>IN</td>\n",
       "    </tr>\n",
       "    <tr>\n",
       "      <th>405405</th>\n",
       "      <td>257549542</td>\n",
       "      <td>46664174.0</td>\n",
       "      <td>Fish</td>\n",
       "      <td>Residential &amp; commercial development</td>\n",
       "      <td>India</td>\n",
       "      <td>IN</td>\n",
       "    </tr>\n",
       "    <tr>\n",
       "      <th>405406</th>\n",
       "      <td>257549542</td>\n",
       "      <td>46664174.0</td>\n",
       "      <td>Fish</td>\n",
       "      <td>Pollution</td>\n",
       "      <td>India</td>\n",
       "      <td>IN</td>\n",
       "    </tr>\n",
       "  </tbody>\n",
       "</table>\n",
       "<p>342946 rows × 6 columns</p>\n",
       "</div>"
      ],
      "text/plain": [
       "        sis_taxon_id  assessment_id category  \\\n",
       "60               222     97439806.0     Fish   \n",
       "61               222     97439806.0     Fish   \n",
       "62               222     97439806.0     Fish   \n",
       "63               222     97439806.0     Fish   \n",
       "64               222     97439806.0     Fish   \n",
       "...              ...            ...      ...   \n",
       "405386     257548227     46664179.0     Fish   \n",
       "405403     257549542     46664174.0     Fish   \n",
       "405404     257549542     46664174.0     Fish   \n",
       "405405     257549542     46664174.0     Fish   \n",
       "405406     257549542     46664174.0     Fish   \n",
       "\n",
       "                                                   Threat  \\\n",
       "60      Invasive and other problematic species, genes ...   \n",
       "61                                Biological resource use   \n",
       "62      Invasive and other problematic species, genes ...   \n",
       "63                                              Pollution   \n",
       "64                                              Pollution   \n",
       "...                                                   ...   \n",
       "405386                                          Pollution   \n",
       "405403                            Biological resource use   \n",
       "405404                            Biological resource use   \n",
       "405405               Residential & commercial development   \n",
       "405406                                          Pollution   \n",
       "\n",
       "                country_name country_code  \n",
       "60                    Canada           CA  \n",
       "61                    Canada           CA  \n",
       "62                    Canada           CA  \n",
       "63                    Canada           CA  \n",
       "64                    Canada           CA  \n",
       "...                      ...          ...  \n",
       "405386  United Arab Emirates           AE  \n",
       "405403                 India           IN  \n",
       "405404                 India           IN  \n",
       "405405                 India           IN  \n",
       "405406                 India           IN  \n",
       "\n",
       "[342946 rows x 6 columns]"
      ]
     },
     "execution_count": 30,
     "metadata": {},
     "output_type": "execute_result"
    }
   ],
   "source": [
    "# Define a function to map threat_code to Threat\n",
    "def map_threat(threat_code):\n",
    "    if threat_code.startswith('1_'):\n",
    "        return 'Residential & commercial development'\n",
    "    elif threat_code.startswith('2_'):\n",
    "        return 'Agriculture & aquaculture'\n",
    "    elif threat_code.startswith('3'):\n",
    "        return 'Energy production & mining'\n",
    "    elif threat_code.startswith('4_'):\n",
    "        return 'Transportation & service corridors'\n",
    "    elif threat_code.startswith('5_'):\n",
    "        return 'Biological resource use'\n",
    "    elif threat_code.startswith('6'):\n",
    "        return 'Human intrusions & disturbance'\n",
    "    elif threat_code.startswith('7_'):\n",
    "        return 'Natural system modifications'\n",
    "    elif threat_code.startswith('8_'):\n",
    "        return 'Invasive and other problematic species, genes & diseases'\n",
    "    elif threat_code.startswith('9_'):\n",
    "        return 'Pollution'\n",
    "    elif threat_code.startswith('10_'):\n",
    "        return 'Geological events'\n",
    "    elif threat_code.startswith('11_'):\n",
    "        return 'Climate change & severe weather'\n",
    "    elif threat_code.startswith('12_'):\n",
    "        return 'Other'\n",
    "    else:\n",
    "        return 'Unknown'  # for any other threat codes\n",
    "\n",
    "threats_df = pd.read_csv(\"../Data/all_threats_species.csv\")\n",
    "\n",
    "# Apply the function to create the new Threat column\n",
    "threats_df['Threat'] = threats_df['threat_code'].apply(map_threat)\n",
    "\n",
    "# Apply the function to the country_code column\n",
    "threats_df['country_name'] = threats_df['country_code'].apply(get_country_name)\n",
    "\n",
    "joint_df = df_combined.drop_duplicates(\"assessment_id\")[['sis_taxon_id','assessment_id','category']].merge(threats_df[['assessment_id','Threat','country_name','country_code']],on='assessment_id')\n",
    "joint_df = joint_df.merge(marine_df.drop_duplicates(\"sis_taxon_id\")[[\"sis_taxon_id\"]],on='sis_taxon_id',how='inner')\n",
    "joint_df.query(\"country_name!='Unknown'\").to_csv(\"../Data/protect_marine_life_3.csv\")\n",
    "\n",
    "joint_df.query(\"country_name!='Unknown'\")"
   ]
  },
  {
   "cell_type": "markdown",
   "id": "8c33f0a5-63ff-46f0-8a6e-e350b2ee4648",
   "metadata": {},
   "source": [
    "## Fig 4"
   ]
  },
  {
   "cell_type": "code",
   "execution_count": 32,
   "id": "57567aae-edc7-454a-a73e-bf412f6c75fa",
   "metadata": {},
   "outputs": [
    {
     "name": "stderr",
     "output_type": "stream",
     "text": [
      "100%|█████████████████████████████████████████████████████████████████████████████████████████████████████████████████████████████| 8769/8769 [00:20<00:00, 419.37it/s]\n"
     ]
    }
   ],
   "source": [
    "from tqdm import tqdm\n",
    "import pandas as pd\n",
    "\n",
    "threats_df = pd.read_csv(\"../Data/all_threats_species.csv\")\n",
    "threats_df = threats_df[[\"assessment_id\",\"sis_taxon_id\",\"year_published\",\"country_code\",\"threat_code\",\"class_name\",\"english_common_name\"]]\n",
    "# Initialize an empty list to store new rows\n",
    "new_rows = []\n",
    "\n",
    "# Define the range of years\n",
    "years = range(1997, 2025)\n",
    "\n",
    "# Iterate through each sis_taxon_id\n",
    "for sis_taxon_id in tqdm(threats_df['sis_taxon_id'].unique()):\n",
    "    # Filter data for the current sis_taxon_id\n",
    "    df_sis = threats_df[threats_df['sis_taxon_id'] == sis_taxon_id]\n",
    "    \n",
    "    # Iterate through each year in the defined range\n",
    "    for year in years:\n",
    "        # Check if there is an entry for the current year\n",
    "        if year not in df_sis['year_published'].values:\n",
    "            # Find the most recent threat categorization from a previous year\n",
    "            previous_threats = df_sis[df_sis['year_published'] < year]\n",
    "            if not previous_threats.empty:\n",
    "                last_threat = previous_threats.iloc[-1]['threat_code']\n",
    "                class_name = previous_threats.iloc[-1]['class_name']\n",
    "                english_common_name = previous_threats.iloc[-1]['english_common_name']\n",
    "                country_code = previous_threats.iloc[-1]['country_code']\n",
    "                # Create a new row with the current year, sis_taxon_id, and the most recent threat categorization\n",
    "                new_row = {\n",
    "                    'year_published': year,\n",
    "                    'threat_code': last_threat,\n",
    "                    'sis_taxon_id': sis_taxon_id,\n",
    "                    'class_name': class_name,\n",
    "                    'english_common_name': english_common_name,\n",
    "                    \"country_code\": country_code\n",
    "                }\n",
    "                new_rows.append(new_row)\n",
    "\n",
    "# Create a DataFrame from the new rows\n",
    "df_new_rows = pd.DataFrame(new_rows)\n",
    "\n",
    "# Append the new rows to the original dataframe\n",
    "df_combined = pd.concat([threats_df, df_new_rows])\n",
    "\n",
    "# Apply the function to create the new Threat column\n",
    "df_combined['threat_type'] = df_combined['threat_code'].apply(map_threat)\n",
    "\n",
    "# Sort the combined dataframe\n",
    "df_combined = df_combined.sort_values(by=['sis_taxon_id', 'year_published']).reset_index(drop=True)\n",
    "\n",
    "# Apply the function to the country_code column\n",
    "df_combined['country_name'] = df_combined['country_code'].apply(get_country_name)"
   ]
  },
  {
   "cell_type": "code",
   "execution_count": 33,
   "id": "afa945cf-d340-48da-93d9-f5349dc4e73e",
   "metadata": {},
   "outputs": [],
   "source": [
    "filtered_fig_4 = df_combined[(df_combined['year_published'] == 2024) & ~(df_combined['country_code'].astype(str).str.contains('-'))].merge(marine_df.drop_duplicates(\"sis_taxon_id\")[[\"sis_taxon_id\"]],on='sis_taxon_id',how='inner')\n",
    "\n",
    "# Define the mapping\n",
    "class_to_category = {\n",
    "    'ACTINOPTERYGII': 'Fish', \n",
    "    'CHONDRICHTHYES': 'Fish', \n",
    "    'SARCOPTERYGII': 'Fish', \n",
    "    'PETROMYZONTI': 'Fish',\n",
    "    'MYXINI': 'Fish',\n",
    "    'CEPHALASPIDOMORPHI': 'Fish',\n",
    "    'MAMMALIA': 'Mammals', \n",
    "    'REPTILIA': 'Reptiles', \n",
    "    'AVES': 'Birds'\n",
    "}\n",
    "\n",
    "# Map the class names to categories\n",
    "filtered_fig_4['category'] = filtered_fig_4['class_name'].map(class_to_category)\n",
    "\n",
    "# Remove rows where category is NaN (those not in the specified classes)\n",
    "filtered_fig_4 = filtered_fig_4.dropna(subset=['category', 'english_common_name']).query(\"country_name != 'Unknown'\")\n",
    "\n",
    "filtered_fig_4[['category','country_name','country_code','english_common_name','threat_type']].dropna().drop_duplicates().to_csv(\"../Data/protect_marine_life_4_threats.csv\")"
   ]
  },
  {
   "cell_type": "code",
   "execution_count": null,
   "id": "b9ed673f-7a2f-46d4-bda3-9fdededfab6b",
   "metadata": {},
   "outputs": [
    {
     "name": "stderr",
     "output_type": "stream",
     "text": [
      "  2%|██▊                                                                                                                          | 407/17975 [00:01<00:51, 338.12it/s]"
     ]
    }
   ],
   "source": [
    "from tqdm import tqdm\n",
    "\n",
    "trends_df = pd.read_csv(\"../Data/all_trends_species.csv\")\n",
    "trends_df = trends_df[[\"assessment_id\",\"sis_taxon_id\",\"year_published\",\"country_code\",\"status\",\"class_name\",\"english_common_name\",\"trend\"]]\n",
    "\n",
    "# Mapping dictionary\n",
    "threats_mapping = {\n",
    "    'DD': 'Data Deficient',\n",
    "    'LC': 'Least Concern',\n",
    "    'NT': 'Near Threatened',\n",
    "    'VU': 'Vulnerable',\n",
    "    'EN': 'Endangered',\n",
    "    'CR': 'Critically Endangered',\n",
    "    'EW': 'Extinct in the Wild',\n",
    "    'EX': 'Extinct',\n",
    "    'NE': 'Not Evaluated',\n",
    "}\n",
    "\n",
    "# Replace the values in the 'Threat' column\n",
    "trends_df['Threat'] = trends_df['status'].replace(threats_mapping)\n",
    "\n",
    "trends_df.loc[trends_df[\"trend\"] == 0, 'trend_title'] = \"Increasing\"\n",
    "trends_df.loc[trends_df[\"trend\"] == 1, 'trend_title'] = \"Decreasing\"\n",
    "trends_df.loc[trends_df[\"trend\"] == 2, 'trend_title'] = \"Stable\"\n",
    "trends_df.loc[trends_df[\"trend\"] == 3, 'trend_title'] = \"Unknown\"\n",
    "\n",
    "# Initialize an empty list to store new rows\n",
    "new_rows = []\n",
    "\n",
    "# Define the range of years\n",
    "years = range(1997, 2025)\n",
    "\n",
    "# Iterate through each sis_taxon_id\n",
    "for sis_taxon_id in tqdm(trends_df['sis_taxon_id'].unique()):\n",
    "    # Filter data for the current sis_taxon_id\n",
    "    df_sis = trends_df[trends_df['sis_taxon_id'] == sis_taxon_id]\n",
    "    \n",
    "    # Iterate through each year in the defined range\n",
    "    for year in years:\n",
    "        # Check if there is an entry for the current year\n",
    "        if year not in df_sis['year_published'].values:\n",
    "            # Find the most recent threat categorization from a previous year\n",
    "            previous_threats = df_sis[df_sis['year_published'] < year]\n",
    "            if not previous_threats.empty:\n",
    "                last_threat = previous_threats.iloc[-1]['Threat']\n",
    "                class_name = previous_threats.iloc[-1]['class_name']\n",
    "                country_code = previous_threats.iloc[-1]['country_code']\n",
    "                english_common_name = previous_threats.iloc[-1]['english_common_name']\n",
    "                trend_title = previous_threats.iloc[-1]['trend_title']\n",
    "                # Create a new row with the current year, sis_taxon_id, and the most recent threat categorization\n",
    "                new_row = {\n",
    "                    'year_published': year,\n",
    "                    'Threat': last_threat,\n",
    "                    'sis_taxon_id': sis_taxon_id,\n",
    "                    'class_name': class_name,\n",
    "                    \"country_code\": country_code,\n",
    "                    \"english_common_name\": english_common_name,\n",
    "                    \"trend_title\": trend_title,\n",
    "                }\n",
    "                new_rows.append(new_row)\n",
    "\n",
    "# Create a DataFrame from the new rows\n",
    "df_new_rows = pd.DataFrame(new_rows)\n",
    "\n",
    "# Append the new rows to the original dataframe\n",
    "df_combined = pd.concat([trends_df, df_new_rows])\n",
    "\n",
    "# Sort the combined dataframe\n",
    "df_combined = df_combined.sort_values(by=['sis_taxon_id', 'year_published']).reset_index(drop=True)\n",
    "\n",
    "# Apply the function to the country_code column\n",
    "df_combined['country_name'] = df_combined['country_code'].apply(get_country_name)"
   ]
  },
  {
   "cell_type": "code",
   "execution_count": null,
   "id": "697e1151-9d55-4c38-b23b-1533844976b0",
   "metadata": {},
   "outputs": [],
   "source": [
    "filtered_fig_4 = df_combined[(df_combined['year_published'] == 2024) & ~(df_combined['country_code'].astype(str).str.contains('-'))].merge(marine_df.drop_duplicates(\"sis_taxon_id\")[[\"sis_taxon_id\"]],on='sis_taxon_id',how='inner')\n",
    "\n",
    "# Define the mapping\n",
    "class_to_category = {\n",
    "    'ACTINOPTERYGII': 'Fish', \n",
    "    'CHONDRICHTHYES': 'Fish', \n",
    "    'SARCOPTERYGII': 'Fish', \n",
    "    'PETROMYZONTI': 'Fish',\n",
    "    'MYXINI': 'Fish',\n",
    "    'CEPHALASPIDOMORPHI': 'Fish',\n",
    "    'MAMMALIA': 'Mammals', \n",
    "    'REPTILIA': 'Reptiles', \n",
    "    'AVES': 'Birds'\n",
    "}\n",
    "\n",
    "# Map the class names to categories\n",
    "filtered_fig_4['category'] = filtered_fig_4['class_name'].map(class_to_category)\n",
    "\n",
    "# Remove rows where category is NaN (those not in the specified classes)\n",
    "filtered_fig_4 = filtered_fig_4.dropna(subset=['category', 'english_common_name']).query(\"country_name != 'Unknown'\")\n",
    "\n",
    "filtered_fig_4[['category','country_name','country_code','english_common_name','Threat','trend_title']].dropna().to_csv(\"../Data/protect_marine_life_4_trends.csv\")"
   ]
  },
  {
   "cell_type": "code",
   "execution_count": null,
   "id": "6146f835-fe04-4957-a2f7-2d2c712129b7",
   "metadata": {},
   "outputs": [],
   "source": []
  }
 ],
 "metadata": {
  "kernelspec": {
   "display_name": "claymodel",
   "language": "python",
   "name": "claymodel"
  },
  "language_info": {
   "codemirror_mode": {
    "name": "ipython",
    "version": 3
   },
   "file_extension": ".py",
   "mimetype": "text/x-python",
   "name": "python",
   "nbconvert_exporter": "python",
   "pygments_lexer": "ipython3",
   "version": "3.11.9"
  }
 },
 "nbformat": 4,
 "nbformat_minor": 5
}
