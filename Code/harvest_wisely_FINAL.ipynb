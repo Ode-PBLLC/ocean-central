{
 "cells": [
  {
   "cell_type": "markdown",
   "id": "ece3e5d5-1626-4146-9ac2-aaa446883581",
   "metadata": {},
   "source": [
    "## Figure 1"
   ]
  },
  {
   "cell_type": "markdown",
   "id": "b5ffbbc8-89a4-4f49-96f1-5caad26f704a",
   "metadata": {},
   "source": [
    "This is a raw passthrough of data from RAM Legacy Database, which can be downloaded from [here](https://ourworldindata.org/grapher/biomass-fish-stocks-taxa?tab=table&country=Tuna~Mackerels~Shrimps~Sharks+and+rays~Cod+and+haddock~Perch+and+rockfish).\n",
    "\n",
    "\n",
    "Data source: RAM Legacy Database; Hilborn,et al. (2020). Effective fisheries management instrumental in improving fish stock status."
   ]
  },
  {
   "attachments": {},
   "cell_type": "markdown",
   "id": "27ec93d3-531e-4df8-89b3-37fe45d44aa5",
   "metadata": {},
   "source": [
    "![Figures/harvest_1.png](Figures/harvest_1.png)"
   ]
  },
  {
   "cell_type": "markdown",
   "id": "dd501700-8c39-4b5a-8581-8c54260193e8",
   "metadata": {},
   "source": [
    "## Figure 2"
   ]
  },
  {
   "cell_type": "markdown",
   "id": "28c4db32-6597-477f-8310-87a277411b6d",
   "metadata": {},
   "source": [
    "Coming soon."
   ]
  },
  {
   "cell_type": "markdown",
   "id": "87fb6a64-338e-4f03-8327-1dbca1b46e92",
   "metadata": {},
   "source": [
    "## Figure 3"
   ]
  },
  {
   "cell_type": "markdown",
   "id": "4e325d22-a996-4319-a495-e857085b01c5",
   "metadata": {},
   "source": [
    "This figure loads in the RAM Legacy Database and maps each stock's most recent measurement of Maximum Sustainable Yield (MSY) to the FAO-defined fishing zones. It then classifies each stock as \"surplus\", \"overfished\", or \"sustainable\" based on its MSY value."
   ]
  },
  {
   "cell_type": "code",
   "execution_count": null,
   "id": "38c3875f-575f-420a-81a8-d05995aba565",
   "metadata": {},
   "outputs": [],
   "source": [
    "# Load the RAM Legacy Database timeseries data\n",
    "df = pd.read_excel(\"../Data/RAMLDB v4.65 (assessment data only).xlsx\", sheet_name=\"timeseries.1\")\n",
    "\n",
    "# Load the RAM Legacy Database stock data\n",
    "region_df = pd.read_excel(\"../Data/RAMLDB v4.65 (assessment data only).xlsx\", sheet_name=\"stock\")\n",
    "\n",
    "# Join the two pandas dataframes together\n",
    "df = df.merge(region_df[['stockid','region']],on='stockid')\n",
    "\n",
    "# Filter the data based on the 'tsid' to the Maximum Sustainable Yield variable and non-null 'tsvalue'\n",
    "df = df.query(\"tsid == 'BdivBmsypref-dimensionless' & ~tsvalue.isna()\")\n",
    "\n",
    "# Get the newest value of 'tsvalue' for each 'stockid' based on the 'year'\n",
    "latest_values = df.loc[df.groupby('stockid')['tsyear'].idxmax()]\n",
    "\n",
    "# Display the result\n",
    "latest_values"
   ]
  },
  {
   "cell_type": "code",
   "execution_count": null,
   "id": "90ef3821-74cb-4b33-8de4-bf11c4f06bcd",
   "metadata": {},
   "outputs": [],
   "source": [
    "# Define classification function for surplus, sustainable, and overfished \n",
    "def classify_msy(value):\n",
    "    if value > 1.2:\n",
    "        return \"surplus\"\n",
    "    elif 0.8 <= value <= 1.2:\n",
    "        return \"sustainable\"\n",
    "    else:\n",
    "        return \"overfished\"\n",
    "\n",
    "# Define the mapping from regions to FAO zone numbers\n",
    "region_to_fao_zone = {\n",
    "    'US East Coast': '21',\n",
    "    'South America': '41, 87',\n",
    "    'Indian Ocean': '51, 57',\n",
    "    'Mediterranean-Black Sea': '37',\n",
    "    'Atlantic Ocean': '21, 27, 31, 34, 41, 47',\n",
    "    'Pacific Ocean': '67, 71, 77, 81, 87',\n",
    "    'US Alaska': '67',\n",
    "    'European Union': '27, 37',\n",
    "    'Japan': '61',\n",
    "    'US West Coast': '67, 77',\n",
    "    'Canada East Coast': '21',\n",
    "    'Other': np.nan,\n",
    "    'New Zealand': '81',\n",
    "    'Australia': '57, 71, 81',\n",
    "    'US Southeast and Gulf': '31',\n",
    "    'Canada West Coast': '67',\n",
    "    'Europe non EU': '27',\n",
    "    'Southern Africa': '47, 51',\n",
    "    'US Hawaii': '77'\n",
    "}\n",
    "\n",
    "# Apply classification to 'tsvalue'\n",
    "latest_values['classification'] = latest_values['tsvalue'].apply(classify_msy)\n",
    "\n",
    "# Apply the mapping to create a new column in the DataFrame\n",
    "latest_values['FAO_zone'] = latest_values['region'].map(region_to_fao_zone)\n",
    "latest_values"
   ]
  },
  {
   "cell_type": "code",
   "execution_count": null,
   "id": "8ade2396-7c91-4004-a7e4-ec3681290ed5",
   "metadata": {},
   "outputs": [],
   "source": [
    "# Split rows with multiple FAO zones into separate rows\n",
    "data_expanded = latest_values.dropna(subset=['FAO_zone']).assign(\n",
    "    FAO_zone=latest_values['FAO_zone'].str.split(', ')\n",
    ").explode('FAO_zone')\n",
    "\n",
    "# Convert FAO_zone to integers\n",
    "data_expanded['FAO_zone'] = data_expanded['FAO_zone'].astype(int)\n",
    "\n",
    "# Group by FAO zone and count the number of rows for each classification\n",
    "grouped_data = data_expanded.groupby('FAO_zone')['classification'].value_counts().unstack(fill_value=0)\n",
    "\n",
    "# Rename columns for clarity\n",
    "grouped_data = grouped_data.rename(columns={\n",
    "    'surplus': 'count_surplus',\n",
    "    'overfished': 'count_overfished',\n",
    "    'sustainable': 'count_sustainable'\n",
    "})\n",
    "\n",
    "grouped_data = grouped_data.reset_index()\n",
    "\n",
    "# Display the grouped data\n",
    "grouped_data"
   ]
  },
  {
   "cell_type": "code",
   "execution_count": null,
   "id": "cd138003-9a90-403b-b171-494bc21f5173",
   "metadata": {},
   "outputs": [],
   "source": [
    "import geopandas as gpd\n",
    "\n",
    "# Read the FAO zones shapefile\n",
    "zones_df = gpd.read_file(\"../Data/fao/World_Fao_Zones.shp\")\n",
    "\n",
    "# Merge the grouped data with the FAO zones GeoDataFrame\n",
    "final_df = zones_df.merge(grouped_data, left_on='zone', right_on='FAO_zone')\n",
    "\n",
    "# Ensure the final DataFrame is a GeoDataFrame\n",
    "final_gdf = gpd.GeoDataFrame(final_df, geometry='geometry')\n",
    "\n",
    "# FAO_zone to Fishing Zone mapping from your second image\n",
    "fishing_zone_mapping = {\n",
    "    18: \"Arctic Sea\",\n",
    "    21: \"Atlantic, Northwest\",\n",
    "    27: \"Atlantic, Northeast\",\n",
    "    31: \"Atlantic, Western-central\",\n",
    "    34: \"Atlantic, Eastern Central\",\n",
    "    37: \"Mediterranean and Black Sea\",\n",
    "    41: \"Atlantic, Southwest\",\n",
    "    47: \"Atlantic, Southeast\",\n",
    "    48: \"Atlantic, Antarctic\",\n",
    "    51: \"Indian Ocean, Western\",\n",
    "    57: \"Indian Ocean, Eastern\",\n",
    "    58: \"Indian Ocean, Antarctic And Southern\",\n",
    "    61: \"Pacific, Northwest\",\n",
    "    67: \"Pacific, Northeast\",\n",
    "    71: \"Pacific, Western Central\",\n",
    "    77: \"Pacific, Eastern Central\",\n",
    "    81: \"Pacific, Southwest\",\n",
    "    87: \"Pacific, Southeast\",\n",
    "    88: \"Pacific, Antarctic\"\n",
    "}\n",
    "\n",
    "# Create a new column by mapping FAO_zone to Fishing Zone\n",
    "final_gdf['Fishing_Zone'] = final_gdf['FAO_zone'].map(fishing_zone_mapping)\n",
    "\n",
    "# Save the result as a GeoJSON file\n",
    "final_gdf[['Fishing_Zone','count_overfished','count_surplus','count_sustainable','geometry']].to_file(\"../Data/harvest_wisely_3.geojson\", driver='GeoJSON')\n",
    "final_gdf"
   ]
  },
  {
   "cell_type": "markdown",
   "id": "b621701e-1af6-4e15-b761-85068bb8a8e3",
   "metadata": {},
   "source": [
    "![Figures/harvest_3.png](Figures/harvest_3.png)"
   ]
  },
  {
   "cell_type": "code",
   "execution_count": null,
   "id": "23c5c75c-5ae0-49d2-914f-59602833f33a",
   "metadata": {},
   "outputs": [],
   "source": []
  }
 ],
 "metadata": {
  "kernelspec": {
   "display_name": "claymodel",
   "language": "python",
   "name": "claymodel"
  },
  "language_info": {
   "codemirror_mode": {
    "name": "ipython",
    "version": 3
   },
   "file_extension": ".py",
   "mimetype": "text/x-python",
   "name": "python",
   "nbconvert_exporter": "python",
   "pygments_lexer": "ipython3",
   "version": "3.11.9"
  }
 },
 "nbformat": 4,
 "nbformat_minor": 5
}
